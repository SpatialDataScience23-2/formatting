{
 "cells": [
  {
   "cell_type": "markdown",
   "id": "9f156965",
   "metadata": {},
   "source": [
    "<center><img src=\"https://i.imgur.com/zRrFdsf.png\" width=\"700\"></center>\n",
    "\n",
    "# Data Formatting (categorical)\n",
    "\n",
    "\n",
    "In this formatting tutorial we will see the categorical case.\n",
    "\n",
    "\n",
    "Let's get [some data](https://en.wikipedia.org/wiki/List_of_freedom_indices):"
   ]
  },
  {
   "cell_type": "markdown",
   "id": "26978c64",
   "metadata": {},
   "source": [
    "--------------\n",
    "### Categorías:\n",
    "Hace referencia a grado de algo (ej. alto-mediano-bajo)\n",
    "- OJO: no es lo mismo que strings (es el 'factor' en R)\n",
    "- Se debe determinar el rango de valores que tiene\n",
    "- categóricas: nominal (no hay orden) y ordinales (sí tienen orden)\n",
    "\n",
    "{Ej. Pequeño - Mediano - Alto (ese es el orden correcto: de menor a mayor)}\n",
    "\n",
    "_Notar: R y Phyton van a organizar las categorías de acuerdo a orden alfabético_"
   ]
  },
  {
   "cell_type": "code",
   "execution_count": 1,
   "id": "1923bc8b",
   "metadata": {},
   "outputs": [
    {
     "name": "stdout",
     "output_type": "stream",
     "text": [
      "Once deleted, variables cannot be recovered. Proceed (y/[n])? y\n"
     ]
    },
    {
     "data": {
      "text/plain": [
       "2"
      ]
     },
     "execution_count": 1,
     "metadata": {},
     "output_type": "execute_result"
    }
   ],
   "source": [
    "%reset\n",
    "import pandas as pd\n",
    "\n",
    "link='https://en.wikipedia.org/wiki/List_of_freedom_indices'\n",
    "freeDFs=pd.read_html(link,flavor='bs4',match='w',attrs={'class':\"wikitable\"})\n",
    "\n",
    "# how many tables?\n",
    "len(freeDFs)"
   ]
  },
  {
   "cell_type": "code",
   "execution_count": 2,
   "id": "ea63ec2f",
   "metadata": {},
   "outputs": [
    {
     "data": {
      "text/html": [
       "<div>\n",
       "<style scoped>\n",
       "    .dataframe tbody tr th:only-of-type {\n",
       "        vertical-align: middle;\n",
       "    }\n",
       "\n",
       "    .dataframe tbody tr th {\n",
       "        vertical-align: top;\n",
       "    }\n",
       "\n",
       "    .dataframe thead tr th {\n",
       "        text-align: left;\n",
       "    }\n",
       "</style>\n",
       "<table border=\"1\" class=\"dataframe\">\n",
       "  <thead>\n",
       "    <tr>\n",
       "      <th></th>\n",
       "      <th>Index</th>\n",
       "      <th colspan=\"15\" halign=\"left\">Scale</th>\n",
       "    </tr>\n",
       "    <tr>\n",
       "      <th></th>\n",
       "      <th>Index</th>\n",
       "      <th>Unnamed: 1_level_1</th>\n",
       "      <th>Unnamed: 2_level_1</th>\n",
       "      <th>Unnamed: 3_level_1</th>\n",
       "      <th>Unnamed: 4_level_1</th>\n",
       "      <th>Unnamed: 5_level_1</th>\n",
       "      <th>Unnamed: 6_level_1</th>\n",
       "      <th>Unnamed: 7_level_1</th>\n",
       "      <th>Unnamed: 8_level_1</th>\n",
       "      <th>Unnamed: 9_level_1</th>\n",
       "      <th>Unnamed: 10_level_1</th>\n",
       "      <th>Unnamed: 11_level_1</th>\n",
       "      <th>Unnamed: 12_level_1</th>\n",
       "      <th>Unnamed: 13_level_1</th>\n",
       "      <th>Unnamed: 14_level_1</th>\n",
       "      <th>Unnamed: 15_level_1</th>\n",
       "    </tr>\n",
       "  </thead>\n",
       "  <tbody>\n",
       "    <tr>\n",
       "      <th>0</th>\n",
       "      <td>Freedom in the World</td>\n",
       "      <td>free</td>\n",
       "      <td>free</td>\n",
       "      <td>free</td>\n",
       "      <td>free</td>\n",
       "      <td>free</td>\n",
       "      <td>partly free</td>\n",
       "      <td>partly free</td>\n",
       "      <td>partly free</td>\n",
       "      <td>partly free</td>\n",
       "      <td>partly free</td>\n",
       "      <td>not free</td>\n",
       "      <td>not free</td>\n",
       "      <td>not free</td>\n",
       "      <td>not free</td>\n",
       "      <td>not free</td>\n",
       "    </tr>\n",
       "    <tr>\n",
       "      <th>1</th>\n",
       "      <td>Index of Economic Freedom</td>\n",
       "      <td>free</td>\n",
       "      <td>free</td>\n",
       "      <td>free</td>\n",
       "      <td>mostly free</td>\n",
       "      <td>mostly free</td>\n",
       "      <td>mostly free</td>\n",
       "      <td>moderately free</td>\n",
       "      <td>moderately free</td>\n",
       "      <td>moderately free</td>\n",
       "      <td>mostly unfree</td>\n",
       "      <td>mostly unfree</td>\n",
       "      <td>mostly unfree</td>\n",
       "      <td>repressed</td>\n",
       "      <td>repressed</td>\n",
       "      <td>repressed</td>\n",
       "    </tr>\n",
       "    <tr>\n",
       "      <th>2</th>\n",
       "      <td>World Press Freedom Index</td>\n",
       "      <td>good</td>\n",
       "      <td>good</td>\n",
       "      <td>good</td>\n",
       "      <td>satisfactory</td>\n",
       "      <td>satisfactory</td>\n",
       "      <td>satisfactory</td>\n",
       "      <td>problematic</td>\n",
       "      <td>problematic</td>\n",
       "      <td>problematic</td>\n",
       "      <td>difficult</td>\n",
       "      <td>difficult</td>\n",
       "      <td>difficult</td>\n",
       "      <td>very serious</td>\n",
       "      <td>very serious</td>\n",
       "      <td>very serious</td>\n",
       "    </tr>\n",
       "    <tr>\n",
       "      <th>3</th>\n",
       "      <td>The Economist Democracy Index</td>\n",
       "      <td>full democracy</td>\n",
       "      <td>full democracy</td>\n",
       "      <td>full democracy</td>\n",
       "      <td>flawed democracy</td>\n",
       "      <td>flawed democracy</td>\n",
       "      <td>flawed democracy</td>\n",
       "      <td>hybrid regime</td>\n",
       "      <td>hybrid regime</td>\n",
       "      <td>hybrid regime</td>\n",
       "      <td>—</td>\n",
       "      <td>—</td>\n",
       "      <td>—</td>\n",
       "      <td>authoritarian regime</td>\n",
       "      <td>authoritarian regime</td>\n",
       "      <td>authoritarian regime</td>\n",
       "    </tr>\n",
       "  </tbody>\n",
       "</table>\n",
       "</div>"
      ],
      "text/plain": [
       "                           Index              Scale                     \\\n",
       "                           Index Unnamed: 1_level_1 Unnamed: 2_level_1   \n",
       "0           Freedom in the World               free               free   \n",
       "1      Index of Economic Freedom               free               free   \n",
       "2      World Press Freedom Index               good               good   \n",
       "3  The Economist Democracy Index     full democracy     full democracy   \n",
       "\n",
       "                                                                               \\\n",
       "  Unnamed: 3_level_1 Unnamed: 4_level_1 Unnamed: 5_level_1 Unnamed: 6_level_1   \n",
       "0               free               free               free        partly free   \n",
       "1               free        mostly free        mostly free        mostly free   \n",
       "2               good       satisfactory       satisfactory       satisfactory   \n",
       "3     full democracy   flawed democracy   flawed democracy   flawed democracy   \n",
       "\n",
       "                                                            \\\n",
       "  Unnamed: 7_level_1 Unnamed: 8_level_1 Unnamed: 9_level_1   \n",
       "0        partly free        partly free        partly free   \n",
       "1    moderately free    moderately free    moderately free   \n",
       "2        problematic        problematic        problematic   \n",
       "3      hybrid regime      hybrid regime      hybrid regime   \n",
       "\n",
       "                                                               \\\n",
       "  Unnamed: 10_level_1 Unnamed: 11_level_1 Unnamed: 12_level_1   \n",
       "0         partly free            not free            not free   \n",
       "1       mostly unfree       mostly unfree       mostly unfree   \n",
       "2           difficult           difficult           difficult   \n",
       "3                   —                   —                   —   \n",
       "\n",
       "                                                                     \n",
       "    Unnamed: 13_level_1   Unnamed: 14_level_1   Unnamed: 15_level_1  \n",
       "0              not free              not free              not free  \n",
       "1             repressed             repressed             repressed  \n",
       "2          very serious          very serious          very serious  \n",
       "3  authoritarian regime  authoritarian regime  authoritarian regime  "
      ]
     },
     "execution_count": 2,
     "metadata": {},
     "output_type": "execute_result"
    }
   ],
   "source": [
    "#is this one?\n",
    "freeDFs[0]"
   ]
  },
  {
   "cell_type": "markdown",
   "id": "7b58c223",
   "metadata": {},
   "source": [
    "Then, you want the second table:"
   ]
  },
  {
   "cell_type": "code",
   "execution_count": 3,
   "id": "d9b41db7",
   "metadata": {
    "scrolled": true
   },
   "outputs": [
    {
     "data": {
      "text/html": [
       "<div>\n",
       "<style scoped>\n",
       "    .dataframe tbody tr th:only-of-type {\n",
       "        vertical-align: middle;\n",
       "    }\n",
       "\n",
       "    .dataframe tbody tr th {\n",
       "        vertical-align: top;\n",
       "    }\n",
       "\n",
       "    .dataframe thead th {\n",
       "        text-align: right;\n",
       "    }\n",
       "</style>\n",
       "<table border=\"1\" class=\"dataframe\">\n",
       "  <thead>\n",
       "    <tr style=\"text-align: right;\">\n",
       "      <th></th>\n",
       "      <th>Country</th>\n",
       "      <th>Freedom in the World 2023[13]</th>\n",
       "      <th>Score</th>\n",
       "      <th>Index of Economic Freedom 2023[14]</th>\n",
       "      <th>Score.1</th>\n",
       "      <th>Press Freedom Index 2023[3]</th>\n",
       "      <th>Score.2</th>\n",
       "      <th>Democracy Index 2023[9]</th>\n",
       "      <th>Score.3</th>\n",
       "    </tr>\n",
       "  </thead>\n",
       "  <tbody>\n",
       "    <tr>\n",
       "      <th>0</th>\n",
       "      <td>Norway</td>\n",
       "      <td>free</td>\n",
       "      <td>100</td>\n",
       "      <td>mostly free</td>\n",
       "      <td>76.9</td>\n",
       "      <td>good</td>\n",
       "      <td>95.18</td>\n",
       "      <td>full democracy</td>\n",
       "      <td>9.81</td>\n",
       "    </tr>\n",
       "    <tr>\n",
       "      <th>1</th>\n",
       "      <td>Ireland</td>\n",
       "      <td>free</td>\n",
       "      <td>97</td>\n",
       "      <td>free</td>\n",
       "      <td>82</td>\n",
       "      <td>good</td>\n",
       "      <td>89.91</td>\n",
       "      <td>full democracy</td>\n",
       "      <td>9.05</td>\n",
       "    </tr>\n",
       "    <tr>\n",
       "      <th>2</th>\n",
       "      <td>Sweden</td>\n",
       "      <td>free</td>\n",
       "      <td>100</td>\n",
       "      <td>mostly free</td>\n",
       "      <td>77.5</td>\n",
       "      <td>good</td>\n",
       "      <td>88.15</td>\n",
       "      <td>full democracy</td>\n",
       "      <td>9.26</td>\n",
       "    </tr>\n",
       "    <tr>\n",
       "      <th>3</th>\n",
       "      <td>Finland</td>\n",
       "      <td>free</td>\n",
       "      <td>100</td>\n",
       "      <td>mostly free</td>\n",
       "      <td>77.1</td>\n",
       "      <td>good</td>\n",
       "      <td>87.94</td>\n",
       "      <td>full democracy</td>\n",
       "      <td>9.2</td>\n",
       "    </tr>\n",
       "    <tr>\n",
       "      <th>4</th>\n",
       "      <td>Denmark</td>\n",
       "      <td>free</td>\n",
       "      <td>97</td>\n",
       "      <td>mostly free</td>\n",
       "      <td>77.6</td>\n",
       "      <td>good</td>\n",
       "      <td>89.48</td>\n",
       "      <td>full democracy</td>\n",
       "      <td>9.15</td>\n",
       "    </tr>\n",
       "  </tbody>\n",
       "</table>\n",
       "</div>"
      ],
      "text/plain": [
       "   Country Freedom in the World 2023[13] Score  \\\n",
       "0   Norway                          free   100   \n",
       "1  Ireland                          free    97   \n",
       "2   Sweden                          free   100   \n",
       "3  Finland                          free   100   \n",
       "4  Denmark                          free    97   \n",
       "\n",
       "  Index of Economic Freedom 2023[14] Score.1 Press Freedom Index 2023[3]  \\\n",
       "0                        mostly free    76.9                        good   \n",
       "1                               free      82                        good   \n",
       "2                        mostly free    77.5                        good   \n",
       "3                        mostly free    77.1                        good   \n",
       "4                        mostly free    77.6                        good   \n",
       "\n",
       "  Score.2 Democracy Index 2023[9] Score.3  \n",
       "0   95.18          full democracy    9.81  \n",
       "1   89.91          full democracy    9.05  \n",
       "2   88.15          full democracy    9.26  \n",
       "3   87.94          full democracy     9.2  \n",
       "4   89.48          full democracy    9.15  "
      ]
     },
     "execution_count": 3,
     "metadata": {},
     "output_type": "execute_result"
    }
   ],
   "source": [
    "allFree=freeDFs[1]\n",
    "allFree.head()"
   ]
  },
  {
   "cell_type": "markdown",
   "id": "6442b690",
   "metadata": {},
   "source": [
    "Cleaning column names:"
   ]
  },
  {
   "cell_type": "code",
   "execution_count": 4,
   "id": "0f614a66",
   "metadata": {},
   "outputs": [
    {
     "data": {
      "text/plain": [
       "Index(['Country', 'Freedom in the World 2023[13]', 'Score',\n",
       "       'Index of Economic Freedom 2023[14]', 'Score.1',\n",
       "       'Press Freedom Index 2023[3]', 'Score.2', 'Democracy Index 2023[9]',\n",
       "       'Score.3'],\n",
       "      dtype='object')"
      ]
     },
     "execution_count": 4,
     "metadata": {},
     "output_type": "execute_result"
    }
   ],
   "source": [
    "allFree.columns"
   ]
  },
  {
   "cell_type": "markdown",
   "id": "a6f48526",
   "metadata": {},
   "source": [
    "Is this a good alternative?"
   ]
  },
  {
   "cell_type": "code",
   "execution_count": 5,
   "id": "8baaa5dc",
   "metadata": {},
   "outputs": [
    {
     "data": {
      "text/plain": [
       "Index(['Country', 'FreedomintheWorld', 'Score', 'IndexofEconomicFreedom',\n",
       "       'Score', 'PressFreedomIndex', 'Score', 'DemocracyIndex', 'Score'],\n",
       "      dtype='object')"
      ]
     },
     "execution_count": 5,
     "metadata": {},
     "output_type": "execute_result"
    }
   ],
   "source": [
    "allFree.columns.str.replace(r\"\\W|\\d\",\"\",regex=True)"
   ]
  },
  {
   "cell_type": "markdown",
   "id": "b70b3b28",
   "metadata": {},
   "source": [
    "You might prefer this:"
   ]
  },
  {
   "cell_type": "code",
   "execution_count": 6,
   "id": "9db05a23",
   "metadata": {},
   "outputs": [],
   "source": [
    "NewNames=['Country', 'Freedom', 'FreedomScore', 'EconomicFreedom',\n",
    "       'EconomicFreedomScore', 'PressFreedom', 'PressFreedomScore', 'Democracy', 'DemocracyScore']\n",
    "allFree.columns=NewNames"
   ]
  },
  {
   "cell_type": "markdown",
   "id": "b2ff581b",
   "metadata": {},
   "source": [
    "Let's check data types:"
   ]
  },
  {
   "cell_type": "code",
   "execution_count": 7,
   "id": "554665f7",
   "metadata": {},
   "outputs": [
    {
     "name": "stdout",
     "output_type": "stream",
     "text": [
      "<class 'pandas.core.frame.DataFrame'>\n",
      "RangeIndex: 197 entries, 0 to 196\n",
      "Data columns (total 9 columns):\n",
      " #   Column                Non-Null Count  Dtype \n",
      "---  ------                --------------  ----- \n",
      " 0   Country               197 non-null    object\n",
      " 1   Freedom               196 non-null    object\n",
      " 2   FreedomScore          197 non-null    object\n",
      " 3   EconomicFreedom       176 non-null    object\n",
      " 4   EconomicFreedomScore  197 non-null    object\n",
      " 5   PressFreedom          184 non-null    object\n",
      " 6   PressFreedomScore     197 non-null    object\n",
      " 7   Democracy             165 non-null    object\n",
      " 8   DemocracyScore        197 non-null    object\n",
      "dtypes: object(9)\n",
      "memory usage: 14.0+ KB\n"
     ]
    }
   ],
   "source": [
    "allFree.info()"
   ]
  },
  {
   "cell_type": "markdown",
   "id": "f35512e0",
   "metadata": {},
   "source": [
    "Let's clean all the leading/trailing space in every cell:"
   ]
  },
  {
   "cell_type": "code",
   "execution_count": 15,
   "id": "51ba6646",
   "metadata": {},
   "outputs": [],
   "source": [
    "# this code breaks if applied to numeric columns\n",
    "allFree=allFree.apply(lambda x: x.str.strip()) #lambda: modificas muchos datos, x indica columna"
   ]
  },
  {
   "cell_type": "markdown",
   "id": "a7ade228",
   "metadata": {},
   "source": [
    "Do we have unique country names?"
   ]
  },
  {
   "cell_type": "code",
   "execution_count": 16,
   "id": "62f8de26",
   "metadata": {},
   "outputs": [
    {
     "data": {
      "text/plain": [
       "True"
      ]
     },
     "execution_count": 16,
     "metadata": {},
     "output_type": "execute_result"
    }
   ],
   "source": [
    "len(allFree.Country)==len(pd.unique(allFree.Country))\n",
    "#pd.unique return unique values\n",
    "#index.unique returns unique values from an Index\n",
    "#Series.unique returns unique values from a Series"
   ]
  },
  {
   "cell_type": "code",
   "execution_count": 17,
   "id": "0c93d6a8",
   "metadata": {},
   "outputs": [
    {
     "data": {
      "text/html": [
       "<div>\n",
       "<style scoped>\n",
       "    .dataframe tbody tr th:only-of-type {\n",
       "        vertical-align: middle;\n",
       "    }\n",
       "\n",
       "    .dataframe tbody tr th {\n",
       "        vertical-align: top;\n",
       "    }\n",
       "\n",
       "    .dataframe thead th {\n",
       "        text-align: right;\n",
       "    }\n",
       "</style>\n",
       "<table border=\"1\" class=\"dataframe\">\n",
       "  <thead>\n",
       "    <tr style=\"text-align: right;\">\n",
       "      <th></th>\n",
       "      <th>Country</th>\n",
       "      <th>Freedom</th>\n",
       "      <th>FreedomScore</th>\n",
       "      <th>EconomicFreedom</th>\n",
       "      <th>EconomicFreedomScore</th>\n",
       "      <th>PressFreedom</th>\n",
       "      <th>PressFreedomScore</th>\n",
       "      <th>Democracy</th>\n",
       "      <th>DemocracyScore</th>\n",
       "    </tr>\n",
       "  </thead>\n",
       "  <tbody>\n",
       "    <tr>\n",
       "      <th>0</th>\n",
       "      <td>Norway</td>\n",
       "      <td>free</td>\n",
       "      <td>100</td>\n",
       "      <td>mostly free</td>\n",
       "      <td>76.9</td>\n",
       "      <td>good</td>\n",
       "      <td>95.18</td>\n",
       "      <td>full democracy</td>\n",
       "      <td>9.81</td>\n",
       "    </tr>\n",
       "    <tr>\n",
       "      <th>1</th>\n",
       "      <td>Ireland</td>\n",
       "      <td>free</td>\n",
       "      <td>97</td>\n",
       "      <td>free</td>\n",
       "      <td>82</td>\n",
       "      <td>good</td>\n",
       "      <td>89.91</td>\n",
       "      <td>full democracy</td>\n",
       "      <td>9.05</td>\n",
       "    </tr>\n",
       "    <tr>\n",
       "      <th>2</th>\n",
       "      <td>Sweden</td>\n",
       "      <td>free</td>\n",
       "      <td>100</td>\n",
       "      <td>mostly free</td>\n",
       "      <td>77.5</td>\n",
       "      <td>good</td>\n",
       "      <td>88.15</td>\n",
       "      <td>full democracy</td>\n",
       "      <td>9.26</td>\n",
       "    </tr>\n",
       "    <tr>\n",
       "      <th>3</th>\n",
       "      <td>Finland</td>\n",
       "      <td>free</td>\n",
       "      <td>100</td>\n",
       "      <td>mostly free</td>\n",
       "      <td>77.1</td>\n",
       "      <td>good</td>\n",
       "      <td>87.94</td>\n",
       "      <td>full democracy</td>\n",
       "      <td>9.2</td>\n",
       "    </tr>\n",
       "    <tr>\n",
       "      <th>4</th>\n",
       "      <td>Denmark</td>\n",
       "      <td>free</td>\n",
       "      <td>97</td>\n",
       "      <td>mostly free</td>\n",
       "      <td>77.6</td>\n",
       "      <td>good</td>\n",
       "      <td>89.48</td>\n",
       "      <td>full democracy</td>\n",
       "      <td>9.15</td>\n",
       "    </tr>\n",
       "  </tbody>\n",
       "</table>\n",
       "</div>"
      ],
      "text/plain": [
       "   Country Freedom FreedomScore EconomicFreedom EconomicFreedomScore  \\\n",
       "0   Norway    free          100     mostly free                 76.9   \n",
       "1  Ireland    free           97            free                   82   \n",
       "2   Sweden    free          100     mostly free                 77.5   \n",
       "3  Finland    free          100     mostly free                 77.1   \n",
       "4  Denmark    free           97     mostly free                 77.6   \n",
       "\n",
       "  PressFreedom PressFreedomScore       Democracy DemocracyScore  \n",
       "0         good             95.18  full democracy           9.81  \n",
       "1         good             89.91  full democracy           9.05  \n",
       "2         good             88.15  full democracy           9.26  \n",
       "3         good             87.94  full democracy            9.2  \n",
       "4         good             89.48  full democracy           9.15  "
      ]
     },
     "execution_count": 17,
     "metadata": {},
     "output_type": "execute_result"
    }
   ],
   "source": [
    "allFree.head()"
   ]
  },
  {
   "cell_type": "markdown",
   "id": "0a7c97b2",
   "metadata": {},
   "source": [
    "You have categorical and numerical columns. Would you prefer this look:"
   ]
  },
  {
   "cell_type": "code",
   "execution_count": 19,
   "id": "d1698ede",
   "metadata": {},
   "outputs": [
    {
     "data": {
      "text/plain": [
       "Index(['Country', 'Freedom', 'EconomicFreedom', 'PressFreedom', 'Democracy'], dtype='object')"
      ]
     },
     "execution_count": 19,
     "metadata": {},
     "output_type": "execute_result"
    }
   ],
   "source": [
    "#non scores\n",
    "\n",
    "allFree.columns[~allFree.columns.str.contains(\"score\",case=False)]"
   ]
  },
  {
   "cell_type": "code",
   "execution_count": 20,
   "id": "a88ffb71",
   "metadata": {},
   "outputs": [
    {
     "data": {
      "text/html": [
       "<div>\n",
       "<style scoped>\n",
       "    .dataframe tbody tr th:only-of-type {\n",
       "        vertical-align: middle;\n",
       "    }\n",
       "\n",
       "    .dataframe tbody tr th {\n",
       "        vertical-align: top;\n",
       "    }\n",
       "\n",
       "    .dataframe thead th {\n",
       "        text-align: right;\n",
       "    }\n",
       "</style>\n",
       "<table border=\"1\" class=\"dataframe\">\n",
       "  <thead>\n",
       "    <tr style=\"text-align: right;\">\n",
       "      <th></th>\n",
       "      <th></th>\n",
       "      <th></th>\n",
       "      <th></th>\n",
       "      <th></th>\n",
       "      <th>FreedomScore</th>\n",
       "      <th>EconomicFreedomScore</th>\n",
       "      <th>PressFreedomScore</th>\n",
       "      <th>DemocracyScore</th>\n",
       "    </tr>\n",
       "    <tr>\n",
       "      <th>Country</th>\n",
       "      <th>Freedom</th>\n",
       "      <th>EconomicFreedom</th>\n",
       "      <th>PressFreedom</th>\n",
       "      <th>Democracy</th>\n",
       "      <th></th>\n",
       "      <th></th>\n",
       "      <th></th>\n",
       "      <th></th>\n",
       "    </tr>\n",
       "  </thead>\n",
       "  <tbody>\n",
       "    <tr>\n",
       "      <th>Norway</th>\n",
       "      <th>free</th>\n",
       "      <th>mostly free</th>\n",
       "      <th>good</th>\n",
       "      <th>full democracy</th>\n",
       "      <td>100</td>\n",
       "      <td>76.9</td>\n",
       "      <td>95.18</td>\n",
       "      <td>9.81</td>\n",
       "    </tr>\n",
       "    <tr>\n",
       "      <th>Ireland</th>\n",
       "      <th>free</th>\n",
       "      <th>free</th>\n",
       "      <th>good</th>\n",
       "      <th>full democracy</th>\n",
       "      <td>97</td>\n",
       "      <td>82</td>\n",
       "      <td>89.91</td>\n",
       "      <td>9.05</td>\n",
       "    </tr>\n",
       "    <tr>\n",
       "      <th>Sweden</th>\n",
       "      <th>free</th>\n",
       "      <th>mostly free</th>\n",
       "      <th>good</th>\n",
       "      <th>full democracy</th>\n",
       "      <td>100</td>\n",
       "      <td>77.5</td>\n",
       "      <td>88.15</td>\n",
       "      <td>9.26</td>\n",
       "    </tr>\n",
       "    <tr>\n",
       "      <th>Finland</th>\n",
       "      <th>free</th>\n",
       "      <th>mostly free</th>\n",
       "      <th>good</th>\n",
       "      <th>full democracy</th>\n",
       "      <td>100</td>\n",
       "      <td>77.1</td>\n",
       "      <td>87.94</td>\n",
       "      <td>9.2</td>\n",
       "    </tr>\n",
       "    <tr>\n",
       "      <th>Denmark</th>\n",
       "      <th>free</th>\n",
       "      <th>mostly free</th>\n",
       "      <th>good</th>\n",
       "      <th>full democracy</th>\n",
       "      <td>97</td>\n",
       "      <td>77.6</td>\n",
       "      <td>89.48</td>\n",
       "      <td>9.15</td>\n",
       "    </tr>\n",
       "    <tr>\n",
       "      <th>...</th>\n",
       "      <th>...</th>\n",
       "      <th>...</th>\n",
       "      <th>...</th>\n",
       "      <th>...</th>\n",
       "      <td>...</td>\n",
       "      <td>...</td>\n",
       "      <td>...</td>\n",
       "      <td>...</td>\n",
       "    </tr>\n",
       "    <tr>\n",
       "      <th>Afghanistan</th>\n",
       "      <th>not free</th>\n",
       "      <th>NaN</th>\n",
       "      <th>very serious</th>\n",
       "      <th>authoritarian regime</th>\n",
       "      <td>8</td>\n",
       "      <td>—</td>\n",
       "      <td>39.75</td>\n",
       "      <td>2.85</td>\n",
       "    </tr>\n",
       "    <tr>\n",
       "      <th>Yemen</th>\n",
       "      <th>not free</th>\n",
       "      <th>NaN</th>\n",
       "      <th>very serious</th>\n",
       "      <th>authoritarian regime</th>\n",
       "      <td>9</td>\n",
       "      <td>—</td>\n",
       "      <td>32.78</td>\n",
       "      <td>1.95</td>\n",
       "    </tr>\n",
       "    <tr>\n",
       "      <th>Palestine</th>\n",
       "      <th>NaN</th>\n",
       "      <th>NaN</th>\n",
       "      <th>very serious</th>\n",
       "      <th>authoritarian regime</th>\n",
       "      <td>—</td>\n",
       "      <td>—</td>\n",
       "      <td>37.86</td>\n",
       "      <td>3.83</td>\n",
       "    </tr>\n",
       "    <tr>\n",
       "      <th>Syria</th>\n",
       "      <th>not free</th>\n",
       "      <th>NaN</th>\n",
       "      <th>very serious</th>\n",
       "      <th>authoritarian regime</th>\n",
       "      <td>1</td>\n",
       "      <td>—</td>\n",
       "      <td>27.22</td>\n",
       "      <td>1.43</td>\n",
       "    </tr>\n",
       "    <tr>\n",
       "      <th>North Korea</th>\n",
       "      <th>not free</th>\n",
       "      <th>repressed</th>\n",
       "      <th>very serious</th>\n",
       "      <th>authoritarian regime</th>\n",
       "      <td>3</td>\n",
       "      <td>2.9</td>\n",
       "      <td>21.72</td>\n",
       "      <td>1.08</td>\n",
       "    </tr>\n",
       "  </tbody>\n",
       "</table>\n",
       "<p>197 rows × 4 columns</p>\n",
       "</div>"
      ],
      "text/plain": [
       "                                                                       FreedomScore  \\\n",
       "Country     Freedom  EconomicFreedom PressFreedom Democracy                           \n",
       "Norway      free     mostly free     good         full democracy                100   \n",
       "Ireland     free     free            good         full democracy                 97   \n",
       "Sweden      free     mostly free     good         full democracy                100   \n",
       "Finland     free     mostly free     good         full democracy                100   \n",
       "Denmark     free     mostly free     good         full democracy                 97   \n",
       "...                                                                             ...   \n",
       "Afghanistan not free NaN             very serious authoritarian regime            8   \n",
       "Yemen       not free NaN             very serious authoritarian regime            9   \n",
       "Palestine   NaN      NaN             very serious authoritarian regime            —   \n",
       "Syria       not free NaN             very serious authoritarian regime            1   \n",
       "North Korea not free repressed       very serious authoritarian regime            3   \n",
       "\n",
       "                                                                       EconomicFreedomScore  \\\n",
       "Country     Freedom  EconomicFreedom PressFreedom Democracy                                   \n",
       "Norway      free     mostly free     good         full democracy                       76.9   \n",
       "Ireland     free     free            good         full democracy                         82   \n",
       "Sweden      free     mostly free     good         full democracy                       77.5   \n",
       "Finland     free     mostly free     good         full democracy                       77.1   \n",
       "Denmark     free     mostly free     good         full democracy                       77.6   \n",
       "...                                                                                     ...   \n",
       "Afghanistan not free NaN             very serious authoritarian regime                    —   \n",
       "Yemen       not free NaN             very serious authoritarian regime                    —   \n",
       "Palestine   NaN      NaN             very serious authoritarian regime                    —   \n",
       "Syria       not free NaN             very serious authoritarian regime                    —   \n",
       "North Korea not free repressed       very serious authoritarian regime                  2.9   \n",
       "\n",
       "                                                                       PressFreedomScore  \\\n",
       "Country     Freedom  EconomicFreedom PressFreedom Democracy                                \n",
       "Norway      free     mostly free     good         full democracy                   95.18   \n",
       "Ireland     free     free            good         full democracy                   89.91   \n",
       "Sweden      free     mostly free     good         full democracy                   88.15   \n",
       "Finland     free     mostly free     good         full democracy                   87.94   \n",
       "Denmark     free     mostly free     good         full democracy                   89.48   \n",
       "...                                                                                  ...   \n",
       "Afghanistan not free NaN             very serious authoritarian regime             39.75   \n",
       "Yemen       not free NaN             very serious authoritarian regime             32.78   \n",
       "Palestine   NaN      NaN             very serious authoritarian regime             37.86   \n",
       "Syria       not free NaN             very serious authoritarian regime             27.22   \n",
       "North Korea not free repressed       very serious authoritarian regime             21.72   \n",
       "\n",
       "                                                                       DemocracyScore  \n",
       "Country     Freedom  EconomicFreedom PressFreedom Democracy                            \n",
       "Norway      free     mostly free     good         full democracy                 9.81  \n",
       "Ireland     free     free            good         full democracy                 9.05  \n",
       "Sweden      free     mostly free     good         full democracy                 9.26  \n",
       "Finland     free     mostly free     good         full democracy                  9.2  \n",
       "Denmark     free     mostly free     good         full democracy                 9.15  \n",
       "...                                                                               ...  \n",
       "Afghanistan not free NaN             very serious authoritarian regime           2.85  \n",
       "Yemen       not free NaN             very serious authoritarian regime           1.95  \n",
       "Palestine   NaN      NaN             very serious authoritarian regime           3.83  \n",
       "Syria       not free NaN             very serious authoritarian regime           1.43  \n",
       "North Korea not free repressed       very serious authoritarian regime           1.08  \n",
       "\n",
       "[197 rows x 4 columns]"
      ]
     },
     "execution_count": 20,
     "metadata": {},
     "output_type": "execute_result"
    }
   ],
   "source": [
    "# non scores as index\n",
    "allFree.set_index(allFree.columns[~allFree.columns.str.contains(\"score\",case=False)].to_list())"
   ]
  },
  {
   "cell_type": "code",
   "execution_count": 21,
   "id": "27f24c63",
   "metadata": {},
   "outputs": [
    {
     "data": {
      "text/html": [
       "<div>\n",
       "<style scoped>\n",
       "    .dataframe tbody tr th:only-of-type {\n",
       "        vertical-align: middle;\n",
       "    }\n",
       "\n",
       "    .dataframe tbody tr th {\n",
       "        vertical-align: top;\n",
       "    }\n",
       "\n",
       "    .dataframe thead th {\n",
       "        text-align: right;\n",
       "    }\n",
       "</style>\n",
       "<table border=\"1\" class=\"dataframe\">\n",
       "  <thead>\n",
       "    <tr style=\"text-align: right;\">\n",
       "      <th></th>\n",
       "      <th>Country</th>\n",
       "      <th>Freedom</th>\n",
       "      <th>EconomicFreedom</th>\n",
       "      <th>PressFreedom</th>\n",
       "      <th>Democracy</th>\n",
       "      <th>FreedomScore</th>\n",
       "      <th>EconomicFreedomScore</th>\n",
       "      <th>PressFreedomScore</th>\n",
       "      <th>DemocracyScore</th>\n",
       "    </tr>\n",
       "  </thead>\n",
       "  <tbody>\n",
       "    <tr>\n",
       "      <th>0</th>\n",
       "      <td>Norway</td>\n",
       "      <td>free</td>\n",
       "      <td>mostly free</td>\n",
       "      <td>good</td>\n",
       "      <td>full democracy</td>\n",
       "      <td>100</td>\n",
       "      <td>76.9</td>\n",
       "      <td>95.18</td>\n",
       "      <td>9.81</td>\n",
       "    </tr>\n",
       "    <tr>\n",
       "      <th>1</th>\n",
       "      <td>Ireland</td>\n",
       "      <td>free</td>\n",
       "      <td>free</td>\n",
       "      <td>good</td>\n",
       "      <td>full democracy</td>\n",
       "      <td>97</td>\n",
       "      <td>82</td>\n",
       "      <td>89.91</td>\n",
       "      <td>9.05</td>\n",
       "    </tr>\n",
       "    <tr>\n",
       "      <th>2</th>\n",
       "      <td>Sweden</td>\n",
       "      <td>free</td>\n",
       "      <td>mostly free</td>\n",
       "      <td>good</td>\n",
       "      <td>full democracy</td>\n",
       "      <td>100</td>\n",
       "      <td>77.5</td>\n",
       "      <td>88.15</td>\n",
       "      <td>9.26</td>\n",
       "    </tr>\n",
       "    <tr>\n",
       "      <th>3</th>\n",
       "      <td>Finland</td>\n",
       "      <td>free</td>\n",
       "      <td>mostly free</td>\n",
       "      <td>good</td>\n",
       "      <td>full democracy</td>\n",
       "      <td>100</td>\n",
       "      <td>77.1</td>\n",
       "      <td>87.94</td>\n",
       "      <td>9.2</td>\n",
       "    </tr>\n",
       "    <tr>\n",
       "      <th>4</th>\n",
       "      <td>Denmark</td>\n",
       "      <td>free</td>\n",
       "      <td>mostly free</td>\n",
       "      <td>good</td>\n",
       "      <td>full democracy</td>\n",
       "      <td>97</td>\n",
       "      <td>77.6</td>\n",
       "      <td>89.48</td>\n",
       "      <td>9.15</td>\n",
       "    </tr>\n",
       "    <tr>\n",
       "      <th>...</th>\n",
       "      <td>...</td>\n",
       "      <td>...</td>\n",
       "      <td>...</td>\n",
       "      <td>...</td>\n",
       "      <td>...</td>\n",
       "      <td>...</td>\n",
       "      <td>...</td>\n",
       "      <td>...</td>\n",
       "      <td>...</td>\n",
       "    </tr>\n",
       "    <tr>\n",
       "      <th>192</th>\n",
       "      <td>Afghanistan</td>\n",
       "      <td>not free</td>\n",
       "      <td>NaN</td>\n",
       "      <td>very serious</td>\n",
       "      <td>authoritarian regime</td>\n",
       "      <td>8</td>\n",
       "      <td>—</td>\n",
       "      <td>39.75</td>\n",
       "      <td>2.85</td>\n",
       "    </tr>\n",
       "    <tr>\n",
       "      <th>193</th>\n",
       "      <td>Yemen</td>\n",
       "      <td>not free</td>\n",
       "      <td>NaN</td>\n",
       "      <td>very serious</td>\n",
       "      <td>authoritarian regime</td>\n",
       "      <td>9</td>\n",
       "      <td>—</td>\n",
       "      <td>32.78</td>\n",
       "      <td>1.95</td>\n",
       "    </tr>\n",
       "    <tr>\n",
       "      <th>194</th>\n",
       "      <td>Palestine</td>\n",
       "      <td>NaN</td>\n",
       "      <td>NaN</td>\n",
       "      <td>very serious</td>\n",
       "      <td>authoritarian regime</td>\n",
       "      <td>—</td>\n",
       "      <td>—</td>\n",
       "      <td>37.86</td>\n",
       "      <td>3.83</td>\n",
       "    </tr>\n",
       "    <tr>\n",
       "      <th>195</th>\n",
       "      <td>Syria</td>\n",
       "      <td>not free</td>\n",
       "      <td>NaN</td>\n",
       "      <td>very serious</td>\n",
       "      <td>authoritarian regime</td>\n",
       "      <td>1</td>\n",
       "      <td>—</td>\n",
       "      <td>27.22</td>\n",
       "      <td>1.43</td>\n",
       "    </tr>\n",
       "    <tr>\n",
       "      <th>196</th>\n",
       "      <td>North Korea</td>\n",
       "      <td>not free</td>\n",
       "      <td>repressed</td>\n",
       "      <td>very serious</td>\n",
       "      <td>authoritarian regime</td>\n",
       "      <td>3</td>\n",
       "      <td>2.9</td>\n",
       "      <td>21.72</td>\n",
       "      <td>1.08</td>\n",
       "    </tr>\n",
       "  </tbody>\n",
       "</table>\n",
       "<p>197 rows × 9 columns</p>\n",
       "</div>"
      ],
      "text/plain": [
       "         Country   Freedom EconomicFreedom  PressFreedom  \\\n",
       "0         Norway      free     mostly free          good   \n",
       "1        Ireland      free            free          good   \n",
       "2         Sweden      free     mostly free          good   \n",
       "3        Finland      free     mostly free          good   \n",
       "4        Denmark      free     mostly free          good   \n",
       "..           ...       ...             ...           ...   \n",
       "192  Afghanistan  not free             NaN  very serious   \n",
       "193        Yemen  not free             NaN  very serious   \n",
       "194    Palestine       NaN             NaN  very serious   \n",
       "195        Syria  not free             NaN  very serious   \n",
       "196  North Korea  not free       repressed  very serious   \n",
       "\n",
       "                Democracy FreedomScore EconomicFreedomScore PressFreedomScore  \\\n",
       "0          full democracy          100                 76.9             95.18   \n",
       "1          full democracy           97                   82             89.91   \n",
       "2          full democracy          100                 77.5             88.15   \n",
       "3          full democracy          100                 77.1             87.94   \n",
       "4          full democracy           97                 77.6             89.48   \n",
       "..                    ...          ...                  ...               ...   \n",
       "192  authoritarian regime            8                    —             39.75   \n",
       "193  authoritarian regime            9                    —             32.78   \n",
       "194  authoritarian regime            —                    —             37.86   \n",
       "195  authoritarian regime            1                    —             27.22   \n",
       "196  authoritarian regime            3                  2.9             21.72   \n",
       "\n",
       "    DemocracyScore  \n",
       "0             9.81  \n",
       "1             9.05  \n",
       "2             9.26  \n",
       "3              9.2  \n",
       "4             9.15  \n",
       "..             ...  \n",
       "192           2.85  \n",
       "193           1.95  \n",
       "194           3.83  \n",
       "195           1.43  \n",
       "196           1.08  \n",
       "\n",
       "[197 rows x 9 columns]"
      ]
     },
     "execution_count": 21,
     "metadata": {},
     "output_type": "execute_result"
    }
   ],
   "source": [
    "# reset index\n",
    "allFree.set_index(allFree.columns[~allFree.columns.str.contains(\"score\",case=False)].to_list()).reset_index(drop=False)"
   ]
  },
  {
   "cell_type": "code",
   "execution_count": null,
   "id": "0e1efcf8",
   "metadata": {},
   "outputs": [],
   "source": [
    "#Then\n",
    "allFree=allFree.set_index(allFree.columns[~allFree.columns.str.contains(\"score\",case=False)].to_list()).reset_index(drop=False)"
   ]
  },
  {
   "cell_type": "code",
   "execution_count": null,
   "id": "77cabb33",
   "metadata": {},
   "outputs": [],
   "source": [
    "allFree.head()"
   ]
  },
  {
   "cell_type": "markdown",
   "id": "e720cf7c",
   "metadata": {},
   "source": [
    "Let's pay attention to the categorical columns:"
   ]
  },
  {
   "cell_type": "code",
   "execution_count": null,
   "id": "e553e725",
   "metadata": {},
   "outputs": [],
   "source": [
    "[list(allFree[c].sort_values().unique()) for c in allFree.columns[1:5]]"
   ]
  },
  {
   "cell_type": "markdown",
   "id": "83d8759b",
   "metadata": {},
   "source": [
    "You wanted to check for mistakes like ['free', 'not free', 'partly free', 'Free']. The cells are clean."
   ]
  },
  {
   "cell_type": "markdown",
   "id": "432a81b5",
   "metadata": {},
   "source": [
    "Now, let's turn the values into **ordinal** categories. Remember that the worst, best and middle values should be comparable:"
   ]
  },
  {
   "cell_type": "code",
   "execution_count": null,
   "id": "0ea93452",
   "metadata": {},
   "outputs": [],
   "source": [
    "mapper1 = {'not free': 1,'partly free': 3, 'free':5 }\n",
    "allFree.Freedom.replace(mapper1,inplace=True)\n",
    "\n",
    "mapper2 = {'repressed':1, 'mostly unfree':2,'moderately free':3, 'mostly free':4, 'free':5}\n",
    "allFree.EconomicFreedom.replace(mapper2,inplace=True)\n",
    "\n",
    "\n",
    "mapper3 = {'very serious':1,'difficult':2, 'problematic':3,\n",
    "           'satisfactory':4,'good':5}\n",
    "allFree.PressFreedom.replace(mapper3,inplace=True)\n",
    "\n",
    "mapper4 = {'authoritarian regime':1, 'hybrid regime':2,'flawed democracy':4,'full democracy':5}\n",
    "allFree.Democracy.replace(mapper4,inplace=True)\n"
   ]
  },
  {
   "cell_type": "code",
   "execution_count": null,
   "id": "742de9d3",
   "metadata": {},
   "outputs": [],
   "source": [
    "# what we have so far\n",
    "allFree"
   ]
  },
  {
   "cell_type": "markdown",
   "id": "0dc96aaa",
   "metadata": {},
   "source": [
    "Let's see the data types:"
   ]
  },
  {
   "cell_type": "code",
   "execution_count": null,
   "id": "720b58c4",
   "metadata": {},
   "outputs": [],
   "source": [
    "#check types:\n",
    "allFree.info()"
   ]
  },
  {
   "cell_type": "markdown",
   "id": "ef76aae8-83dc-492c-824c-225f95b2b0eb",
   "metadata": {},
   "source": [
    "We could turn those floats into integers:"
   ]
  },
  {
   "cell_type": "code",
   "execution_count": null,
   "id": "0a14a21e",
   "metadata": {},
   "outputs": [],
   "source": [
    "# what about\n",
    "allFree[allFree.columns[1:5]]=allFree.iloc[:,1:5].apply(lambda x: x.astype('Int64'))"
   ]
  },
  {
   "cell_type": "code",
   "execution_count": null,
   "id": "4828ffc8",
   "metadata": {},
   "outputs": [],
   "source": [
    "#then\n",
    "allFree.info()"
   ]
  },
  {
   "cell_type": "markdown",
   "id": "89342f19",
   "metadata": {},
   "source": [
    "However, these are NOT yet **ordinal**. Let's see how the process is:"
   ]
  },
  {
   "cell_type": "code",
   "execution_count": null,
   "id": "e21f045b",
   "metadata": {},
   "outputs": [],
   "source": [
    "from pandas.api.types import CategoricalDtype\n",
    "\n",
    "order = CategoricalDtype(categories=[1,2,3,4,5], ordered=True)\n",
    "allFree.iloc[:,1:5].apply(lambda x:x.astype(order)).info()"
   ]
  },
  {
   "cell_type": "markdown",
   "id": "a6510baf-9879-4b92-b70c-0c382f191ba6",
   "metadata": {},
   "source": [
    "That is what you will get. Let me put those values in new columns:\n",
    "\n",
    "1. Create new column names"
   ]
  },
  {
   "cell_type": "code",
   "execution_count": null,
   "id": "71af28f8",
   "metadata": {},
   "outputs": [],
   "source": [
    "# create some new names:\n",
    "newNames=allFree.columns[1:5]+'_ord'\n",
    "#see\n",
    "newNames"
   ]
  },
  {
   "cell_type": "markdown",
   "id": "043de35a-1654-4edc-a2fa-3cc0b195a2a4",
   "metadata": {},
   "source": [
    "2. Create new data columns (using the new names):"
   ]
  },
  {
   "cell_type": "code",
   "execution_count": null,
   "id": "80aff81e",
   "metadata": {},
   "outputs": [],
   "source": [
    "allFree[newNames]=allFree.iloc[:,1:5].apply(lambda x:x.astype(order))"
   ]
  },
  {
   "cell_type": "markdown",
   "id": "dc7fbb8f-48d8-4d0a-a399-abf4e965ab02",
   "metadata": {},
   "source": [
    "You have this:"
   ]
  },
  {
   "cell_type": "code",
   "execution_count": null,
   "id": "82046fb5",
   "metadata": {},
   "outputs": [],
   "source": [
    "allFree.info()"
   ]
  },
  {
   "cell_type": "markdown",
   "id": "decb3bba-65dc-4725-9679-790140461673",
   "metadata": {},
   "source": [
    "Notice the ordinal levels:"
   ]
  },
  {
   "cell_type": "code",
   "execution_count": null,
   "id": "df5a5224",
   "metadata": {},
   "outputs": [],
   "source": [
    "allFree.EconomicFreedom_ord"
   ]
  },
  {
   "cell_type": "markdown",
   "id": "7bddfe25",
   "metadata": {},
   "source": [
    "You may want to rename them:"
   ]
  },
  {
   "cell_type": "code",
   "execution_count": null,
   "id": "98024763",
   "metadata": {},
   "outputs": [],
   "source": [
    "# This is how it looks:\n",
    "\n",
    "\n",
    "ordCats={1:'veryLow',2:'low',3:'medium',4:'good',5:'veryGood'}\n",
    "\n",
    "turnToOrdinal= lambda x:x.cat.rename_categories(ordCats)\n",
    "\n",
    "allFree.iloc[:,9:].apply(turnToOrdinal)"
   ]
  },
  {
   "cell_type": "code",
   "execution_count": null,
   "id": "f916d049",
   "metadata": {},
   "outputs": [],
   "source": [
    "# making the changes:\n",
    "\n",
    "allFree[newNames]=allFree.iloc[:,9:].apply(turnToOrdinal)\n",
    "\n",
    "# see\n",
    "allFree.head(10)"
   ]
  },
  {
   "cell_type": "markdown",
   "id": "a42df45e",
   "metadata": {},
   "source": [
    "Let's keep this last result, but this time let me show you the use of **pickle** format:"
   ]
  },
  {
   "cell_type": "code",
   "execution_count": null,
   "id": "161406d7",
   "metadata": {},
   "outputs": [],
   "source": [
    "#saving\n",
    "\n",
    "import os \n",
    "\n",
    "allFree.to_csv(os.path.join(\"data\",\"allFree.csv\"),index=False ) # as usual\n",
    "allFree.to_pickle(os.path.join(\"data\",\"allFree.pkl\") )"
   ]
  },
  {
   "cell_type": "code",
   "execution_count": null,
   "id": "43d07085",
   "metadata": {},
   "outputs": [],
   "source": [
    "#reading\n",
    "\n",
    "dfPickle=pd.read_pickle(os.path.join(\"data\",\"allFree.pkl\") )  \n",
    "dfCSV=pd.read_csv(os.path.join(\"data\",\"allFree.csv\") )  "
   ]
  },
  {
   "cell_type": "markdown",
   "id": "cce1b3a2",
   "metadata": {},
   "source": [
    "Now, notice the difference when you have categorical data:"
   ]
  },
  {
   "cell_type": "code",
   "execution_count": null,
   "id": "6cefa4b8",
   "metadata": {},
   "outputs": [],
   "source": [
    "dfPickle.info()"
   ]
  },
  {
   "cell_type": "code",
   "execution_count": null,
   "id": "1d27a302",
   "metadata": {},
   "outputs": [],
   "source": [
    "dfCSV.info()"
   ]
  },
  {
   "cell_type": "code",
   "execution_count": null,
   "id": "3def84ae",
   "metadata": {},
   "outputs": [],
   "source": [
    "# the file kept the data type\n",
    "dfPickle.Democracy_ord"
   ]
  },
  {
   "cell_type": "code",
   "execution_count": null,
   "id": "182bd92b",
   "metadata": {},
   "outputs": [],
   "source": [
    "# the file did not keep the data type\n",
    "dfCSV.Democracy_ord"
   ]
  },
  {
   "cell_type": "code",
   "execution_count": null,
   "id": "08293627",
   "metadata": {},
   "outputs": [],
   "source": []
  }
 ],
 "metadata": {
  "kernelspec": {
   "display_name": "Python 3 (ipykernel)",
   "language": "python",
   "name": "python3"
  },
  "language_info": {
   "codemirror_mode": {
    "name": "ipython",
    "version": 3
   },
   "file_extension": ".py",
   "mimetype": "text/x-python",
   "name": "python",
   "nbconvert_exporter": "python",
   "pygments_lexer": "ipython3",
   "version": "3.11.4"
  }
 },
 "nbformat": 4,
 "nbformat_minor": 5
}
