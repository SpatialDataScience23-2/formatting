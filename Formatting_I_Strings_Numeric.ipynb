{
 "cells": [
  {
   "cell_type": "markdown",
   "id": "114e2eb6",
   "metadata": {},
   "source": [
    "<center><img src=\"https://i.imgur.com/zRrFdsf.png\" width=\"700\"></center>\n",
    "\n",
    "# Data Formatting (strings and numeric)\n",
    "\n",
    "Let me clean some data sets:"
   ]
  },
  {
   "cell_type": "markdown",
   "id": "e98eee5d",
   "metadata": {},
   "source": [
    "-----------------------------------------------------------------------------------------------------------------\n",
    "En caso haya un dato que por ejemplo sea un número: '10.13' pero está como character y tú lo quieres como numeric:\n",
    " - coerce: forzar a que sea numeric (puede resultar en 'nan')\n",
    " \n",
    " {Previamente es importante hacer \"cleaning\". Si 10,13 no se cambia por 10.13, entonces al colocar coerce, te resultaría en 'nan'}\n",
    " - ignore: no lo toco (lo deja igual)\n",
    " - raise: cuando encuentra un error, te pasa la voz"
   ]
  },
  {
   "cell_type": "code",
   "execution_count": 21,
   "id": "928e4a76",
   "metadata": {},
   "outputs": [],
   "source": [
    "# links to websites\n",
    "carbonLink=\"https://www.cia.gov/the-world-factbook/field/carbon-dioxide-emissions/country-comparison\" \n",
    "forestLink=\"https://www.cia.gov/the-world-factbook/field/revenue-from-forest-resources/country-comparison\" "
   ]
  },
  {
   "cell_type": "code",
   "execution_count": 22,
   "id": "64e5eac3",
   "metadata": {},
   "outputs": [
    {
     "data": {
      "text/plain": [
       "[     Rank                                        Country  \\\n",
       " 0       1                                          China   \n",
       " 1       2                                  United States   \n",
       " 2       3                                          India   \n",
       " 3       4                                         Russia   \n",
       " 4       5                                          Japan   \n",
       " ..    ...                                            ...   \n",
       " 213   214                                     Antarctica   \n",
       " 214   215  Saint Helena, Ascension, and Tristan da Cunha   \n",
       " 215   216                                           Niue   \n",
       " 216   217                       Northern Mariana Islands   \n",
       " 217   218                                         Tuvalu   \n",
       " \n",
       "      metric tonnes of CO2 Date of Information  \n",
       " 0             10773248000           2019 est.  \n",
       " 1              5144361000           2019 est.  \n",
       " 2              2314738000           2019 est.  \n",
       " 3              1848070000           2019 est.  \n",
       " 4              1103234000           2019 est.  \n",
       " ..                    ...                 ...  \n",
       " 213                 28000           2019 est.  \n",
       " 214                 13000           2019 est.  \n",
       " 215                  8000           2019 est.  \n",
       " 216                     0           2019 est.  \n",
       " 217                     0           2019 est.  \n",
       " \n",
       " [218 rows x 4 columns]]"
      ]
     },
     "execution_count": 22,
     "metadata": {},
     "output_type": "execute_result"
    }
   ],
   "source": [
    "# scrapping into LIST of Dataframes\n",
    "\n",
    "import pandas as pd\n",
    "\n",
    "carbonList=pd.read_html(carbonLink,header=0,flavor='bs4')\n",
    "forestList=pd.read_html(forestLink,header=0,flavor='bs4')\n",
    "carbonList"
   ]
  },
  {
   "cell_type": "code",
   "execution_count": 23,
   "id": "bbcce57e",
   "metadata": {},
   "outputs": [],
   "source": [
    "# getting the Dataframe from list\n",
    "carbon=carbonList[0]\n",
    "forest=forestList[0]"
   ]
  },
  {
   "cell_type": "code",
   "execution_count": 24,
   "id": "0430b8de",
   "metadata": {},
   "outputs": [],
   "source": [
    "# no spaces in column names\n",
    "carbon.columns=carbon.columns.str.replace(r'\\s','',regex=True)\n",
    "forest.columns=forest.columns.str.replace(r'\\s','',regex=True)"
   ]
  },
  {
   "cell_type": "code",
   "execution_count": 25,
   "id": "0e609f29",
   "metadata": {},
   "outputs": [],
   "source": [
    "# dropping\n",
    "toDrop=['Rank']\n",
    "carbon.drop(columns=toDrop,inplace=True)\n",
    "forest.drop(columns=toDrop,inplace=True)"
   ]
  },
  {
   "cell_type": "code",
   "execution_count": 26,
   "id": "2bd5182f",
   "metadata": {},
   "outputs": [
    {
     "data": {
      "text/html": [
       "<div>\n",
       "<style scoped>\n",
       "    .dataframe tbody tr th:only-of-type {\n",
       "        vertical-align: middle;\n",
       "    }\n",
       "\n",
       "    .dataframe tbody tr th {\n",
       "        vertical-align: top;\n",
       "    }\n",
       "\n",
       "    .dataframe thead th {\n",
       "        text-align: right;\n",
       "    }\n",
       "</style>\n",
       "<table border=\"1\" class=\"dataframe\">\n",
       "  <thead>\n",
       "    <tr style=\"text-align: right;\">\n",
       "      <th></th>\n",
       "      <th>Country</th>\n",
       "      <th>co2_tonnes</th>\n",
       "      <th>Carbon_yearData</th>\n",
       "    </tr>\n",
       "  </thead>\n",
       "  <tbody>\n",
       "    <tr>\n",
       "      <th>0</th>\n",
       "      <td>China</td>\n",
       "      <td>10773248000</td>\n",
       "      <td>2019 est.</td>\n",
       "    </tr>\n",
       "    <tr>\n",
       "      <th>1</th>\n",
       "      <td>United States</td>\n",
       "      <td>5144361000</td>\n",
       "      <td>2019 est.</td>\n",
       "    </tr>\n",
       "    <tr>\n",
       "      <th>2</th>\n",
       "      <td>India</td>\n",
       "      <td>2314738000</td>\n",
       "      <td>2019 est.</td>\n",
       "    </tr>\n",
       "    <tr>\n",
       "      <th>3</th>\n",
       "      <td>Russia</td>\n",
       "      <td>1848070000</td>\n",
       "      <td>2019 est.</td>\n",
       "    </tr>\n",
       "    <tr>\n",
       "      <th>4</th>\n",
       "      <td>Japan</td>\n",
       "      <td>1103234000</td>\n",
       "      <td>2019 est.</td>\n",
       "    </tr>\n",
       "    <tr>\n",
       "      <th>...</th>\n",
       "      <td>...</td>\n",
       "      <td>...</td>\n",
       "      <td>...</td>\n",
       "    </tr>\n",
       "    <tr>\n",
       "      <th>213</th>\n",
       "      <td>Antarctica</td>\n",
       "      <td>28000</td>\n",
       "      <td>2019 est.</td>\n",
       "    </tr>\n",
       "    <tr>\n",
       "      <th>214</th>\n",
       "      <td>Saint Helena, Ascension, and Tristan da Cunha</td>\n",
       "      <td>13000</td>\n",
       "      <td>2019 est.</td>\n",
       "    </tr>\n",
       "    <tr>\n",
       "      <th>215</th>\n",
       "      <td>Niue</td>\n",
       "      <td>8000</td>\n",
       "      <td>2019 est.</td>\n",
       "    </tr>\n",
       "    <tr>\n",
       "      <th>216</th>\n",
       "      <td>Northern Mariana Islands</td>\n",
       "      <td>0</td>\n",
       "      <td>2019 est.</td>\n",
       "    </tr>\n",
       "    <tr>\n",
       "      <th>217</th>\n",
       "      <td>Tuvalu</td>\n",
       "      <td>0</td>\n",
       "      <td>2019 est.</td>\n",
       "    </tr>\n",
       "  </tbody>\n",
       "</table>\n",
       "<p>218 rows × 3 columns</p>\n",
       "</div>"
      ],
      "text/plain": [
       "                                           Country   co2_tonnes  \\\n",
       "0                                            China  10773248000   \n",
       "1                                    United States   5144361000   \n",
       "2                                            India   2314738000   \n",
       "3                                           Russia   1848070000   \n",
       "4                                            Japan   1103234000   \n",
       "..                                             ...          ...   \n",
       "213                                     Antarctica        28000   \n",
       "214  Saint Helena, Ascension, and Tristan da Cunha        13000   \n",
       "215                                           Niue         8000   \n",
       "216                       Northern Mariana Islands            0   \n",
       "217                                         Tuvalu            0   \n",
       "\n",
       "    Carbon_yearData  \n",
       "0         2019 est.  \n",
       "1         2019 est.  \n",
       "2         2019 est.  \n",
       "3         2019 est.  \n",
       "4         2019 est.  \n",
       "..              ...  \n",
       "213       2019 est.  \n",
       "214       2019 est.  \n",
       "215       2019 est.  \n",
       "216       2019 est.  \n",
       "217       2019 est.  \n",
       "\n",
       "[218 rows x 3 columns]"
      ]
     },
     "execution_count": 26,
     "metadata": {},
     "output_type": "execute_result"
    }
   ],
   "source": [
    "#renaming\n",
    "newCarbonNames={'metrictonnesofCO2':'co2_tonnes','DateofInformation':'Carbon_yearData'}\n",
    "newForestNames={'%ofGDP':'ForestRevenue_PctGDP', 'DateofInformation':'Forest_yearData'}\n",
    "carbon.rename(columns=newCarbonNames,inplace=True)\n",
    "forest.rename(columns=newForestNames,inplace=True)\n",
    "carbon"
   ]
  },
  {
   "cell_type": "code",
   "execution_count": 7,
   "id": "29408222",
   "metadata": {},
   "outputs": [
    {
     "data": {
      "text/html": [
       "<div>\n",
       "<style scoped>\n",
       "    .dataframe tbody tr th:only-of-type {\n",
       "        vertical-align: middle;\n",
       "    }\n",
       "\n",
       "    .dataframe tbody tr th {\n",
       "        vertical-align: top;\n",
       "    }\n",
       "\n",
       "    .dataframe thead th {\n",
       "        text-align: right;\n",
       "    }\n",
       "</style>\n",
       "<table border=\"1\" class=\"dataframe\">\n",
       "  <thead>\n",
       "    <tr style=\"text-align: right;\">\n",
       "      <th></th>\n",
       "      <th>Country</th>\n",
       "      <th>ForestRevenue_PctGDP</th>\n",
       "      <th>Forest_yearData</th>\n",
       "    </tr>\n",
       "  </thead>\n",
       "  <tbody>\n",
       "    <tr>\n",
       "      <th>0</th>\n",
       "      <td>Solomon Islands</td>\n",
       "      <td>20.27</td>\n",
       "      <td>2018 est.</td>\n",
       "    </tr>\n",
       "    <tr>\n",
       "      <th>1</th>\n",
       "      <td>Liberia</td>\n",
       "      <td>13.27</td>\n",
       "      <td>2018 est.</td>\n",
       "    </tr>\n",
       "    <tr>\n",
       "      <th>2</th>\n",
       "      <td>Burundi</td>\n",
       "      <td>10.31</td>\n",
       "      <td>2018 est.</td>\n",
       "    </tr>\n",
       "    <tr>\n",
       "      <th>3</th>\n",
       "      <td>Guinea-Bissau</td>\n",
       "      <td>9.24</td>\n",
       "      <td>2018 est.</td>\n",
       "    </tr>\n",
       "    <tr>\n",
       "      <th>4</th>\n",
       "      <td>Central African Republic</td>\n",
       "      <td>8.99</td>\n",
       "      <td>2018 est.</td>\n",
       "    </tr>\n",
       "    <tr>\n",
       "      <th>...</th>\n",
       "      <td>...</td>\n",
       "      <td>...</td>\n",
       "      <td>...</td>\n",
       "    </tr>\n",
       "    <tr>\n",
       "      <th>199</th>\n",
       "      <td>Guam</td>\n",
       "      <td>0.00</td>\n",
       "      <td>2018 est.</td>\n",
       "    </tr>\n",
       "    <tr>\n",
       "      <th>200</th>\n",
       "      <td>Faroe Islands</td>\n",
       "      <td>0.00</td>\n",
       "      <td>2017 est.</td>\n",
       "    </tr>\n",
       "    <tr>\n",
       "      <th>201</th>\n",
       "      <td>Aruba</td>\n",
       "      <td>0.00</td>\n",
       "      <td>2017 est.</td>\n",
       "    </tr>\n",
       "    <tr>\n",
       "      <th>202</th>\n",
       "      <td>Virgin Islands</td>\n",
       "      <td>0.00</td>\n",
       "      <td>2017 est.</td>\n",
       "    </tr>\n",
       "    <tr>\n",
       "      <th>203</th>\n",
       "      <td>Macau</td>\n",
       "      <td>0.00</td>\n",
       "      <td>2018 est.</td>\n",
       "    </tr>\n",
       "  </tbody>\n",
       "</table>\n",
       "<p>204 rows × 3 columns</p>\n",
       "</div>"
      ],
      "text/plain": [
       "                      Country  ForestRevenue_PctGDP Forest_yearData\n",
       "0             Solomon Islands                 20.27       2018 est.\n",
       "1                     Liberia                 13.27       2018 est.\n",
       "2                     Burundi                 10.31       2018 est.\n",
       "3               Guinea-Bissau                  9.24       2018 est.\n",
       "4    Central African Republic                  8.99       2018 est.\n",
       "..                        ...                   ...             ...\n",
       "199                      Guam                  0.00       2018 est.\n",
       "200             Faroe Islands                  0.00       2017 est.\n",
       "201                     Aruba                  0.00       2017 est.\n",
       "202            Virgin Islands                  0.00       2017 est.\n",
       "203                     Macau                  0.00       2018 est.\n",
       "\n",
       "[204 rows x 3 columns]"
      ]
     },
     "execution_count": 7,
     "metadata": {},
     "output_type": "execute_result"
    }
   ],
   "source": [
    "# no spaces in string values (to several columns)\n",
    "byeSpaces=lambda x: x.str.strip()\n",
    "carbon.iloc[:,[0,2]]=carbon.iloc[:,[0,2]].apply(byeSpaces)\n",
    "forest.iloc[:,[0,2]]=forest.iloc[:,[0,2]].apply(byeSpaces)\n",
    "forest"
   ]
  },
  {
   "cell_type": "code",
   "execution_count": 49,
   "id": "ce709359",
   "metadata": {},
   "outputs": [
    {
     "data": {
      "text/html": [
       "<div>\n",
       "<style scoped>\n",
       "    .dataframe tbody tr th:only-of-type {\n",
       "        vertical-align: middle;\n",
       "    }\n",
       "\n",
       "    .dataframe tbody tr th {\n",
       "        vertical-align: top;\n",
       "    }\n",
       "\n",
       "    .dataframe thead th {\n",
       "        text-align: right;\n",
       "    }\n",
       "</style>\n",
       "<table border=\"1\" class=\"dataframe\">\n",
       "  <thead>\n",
       "    <tr style=\"text-align: right;\">\n",
       "      <th></th>\n",
       "      <th>Country</th>\n",
       "      <th>co2_tonnes</th>\n",
       "      <th>Carbon_yearData</th>\n",
       "    </tr>\n",
       "  </thead>\n",
       "  <tbody>\n",
       "    <tr>\n",
       "      <th>0</th>\n",
       "      <td>CHINA</td>\n",
       "      <td>10773248000</td>\n",
       "      <td>2019</td>\n",
       "    </tr>\n",
       "    <tr>\n",
       "      <th>1</th>\n",
       "      <td>UNITED STATES</td>\n",
       "      <td>5144361000</td>\n",
       "      <td>2019</td>\n",
       "    </tr>\n",
       "    <tr>\n",
       "      <th>2</th>\n",
       "      <td>INDIA</td>\n",
       "      <td>2314738000</td>\n",
       "      <td>2019</td>\n",
       "    </tr>\n",
       "    <tr>\n",
       "      <th>3</th>\n",
       "      <td>RUSSIA</td>\n",
       "      <td>1848070000</td>\n",
       "      <td>2019</td>\n",
       "    </tr>\n",
       "    <tr>\n",
       "      <th>4</th>\n",
       "      <td>JAPAN</td>\n",
       "      <td>1103234000</td>\n",
       "      <td>2019</td>\n",
       "    </tr>\n",
       "    <tr>\n",
       "      <th>...</th>\n",
       "      <td>...</td>\n",
       "      <td>...</td>\n",
       "      <td>...</td>\n",
       "    </tr>\n",
       "    <tr>\n",
       "      <th>213</th>\n",
       "      <td>ANTARCTICA</td>\n",
       "      <td>28000</td>\n",
       "      <td>2019</td>\n",
       "    </tr>\n",
       "    <tr>\n",
       "      <th>214</th>\n",
       "      <td>SAINT HELENA, ASCENSION, AND TRISTAN DA CUNHA</td>\n",
       "      <td>13000</td>\n",
       "      <td>2019</td>\n",
       "    </tr>\n",
       "    <tr>\n",
       "      <th>215</th>\n",
       "      <td>NIUE</td>\n",
       "      <td>8000</td>\n",
       "      <td>2019</td>\n",
       "    </tr>\n",
       "    <tr>\n",
       "      <th>216</th>\n",
       "      <td>NORTHERN MARIANA ISLANDS</td>\n",
       "      <td>0</td>\n",
       "      <td>2019</td>\n",
       "    </tr>\n",
       "    <tr>\n",
       "      <th>217</th>\n",
       "      <td>TUVALU</td>\n",
       "      <td>0</td>\n",
       "      <td>2019</td>\n",
       "    </tr>\n",
       "  </tbody>\n",
       "</table>\n",
       "<p>218 rows × 3 columns</p>\n",
       "</div>"
      ],
      "text/plain": [
       "                                           Country   co2_tonnes  \\\n",
       "0                                            CHINA  10773248000   \n",
       "1                                    UNITED STATES   5144361000   \n",
       "2                                            INDIA   2314738000   \n",
       "3                                           RUSSIA   1848070000   \n",
       "4                                            JAPAN   1103234000   \n",
       "..                                             ...          ...   \n",
       "213                                     ANTARCTICA        28000   \n",
       "214  SAINT HELENA, ASCENSION, AND TRISTAN DA CUNHA        13000   \n",
       "215                                           NIUE         8000   \n",
       "216                       NORTHERN MARIANA ISLANDS            0   \n",
       "217                                         TUVALU            0   \n",
       "\n",
       "    Carbon_yearData  \n",
       "0              2019  \n",
       "1              2019  \n",
       "2              2019  \n",
       "3              2019  \n",
       "4              2019  \n",
       "..              ...  \n",
       "213            2019  \n",
       "214            2019  \n",
       "215            2019  \n",
       "216            2019  \n",
       "217            2019  \n",
       "\n",
       "[218 rows x 3 columns]"
      ]
     },
     "execution_count": 49,
     "metadata": {},
     "output_type": "execute_result"
    }
   ],
   "source": [
    "# keeping year\n",
    "carbon.Carbon_yearData=carbon.Carbon_yearData.str. extract(pat=r'(\\d+)')\n",
    "forest.Forest_yearData=forest.Forest_yearData.str. extract(pat=r'(\\d+)')\n",
    "carbon"
   ]
  },
  {
   "cell_type": "code",
   "execution_count": 50,
   "id": "14b38d0b",
   "metadata": {},
   "outputs": [
    {
     "data": {
      "text/html": [
       "<div>\n",
       "<style scoped>\n",
       "    .dataframe tbody tr th:only-of-type {\n",
       "        vertical-align: middle;\n",
       "    }\n",
       "\n",
       "    .dataframe tbody tr th {\n",
       "        vertical-align: top;\n",
       "    }\n",
       "\n",
       "    .dataframe thead th {\n",
       "        text-align: right;\n",
       "    }\n",
       "</style>\n",
       "<table border=\"1\" class=\"dataframe\">\n",
       "  <thead>\n",
       "    <tr style=\"text-align: right;\">\n",
       "      <th></th>\n",
       "      <th>Country</th>\n",
       "      <th>co2_tonnes</th>\n",
       "      <th>Carbon_yearData</th>\n",
       "    </tr>\n",
       "  </thead>\n",
       "  <tbody>\n",
       "    <tr>\n",
       "      <th>0</th>\n",
       "      <td>CHINA</td>\n",
       "      <td>10773248000</td>\n",
       "      <td>2019</td>\n",
       "    </tr>\n",
       "    <tr>\n",
       "      <th>1</th>\n",
       "      <td>UNITED STATES</td>\n",
       "      <td>5144361000</td>\n",
       "      <td>2019</td>\n",
       "    </tr>\n",
       "    <tr>\n",
       "      <th>2</th>\n",
       "      <td>INDIA</td>\n",
       "      <td>2314738000</td>\n",
       "      <td>2019</td>\n",
       "    </tr>\n",
       "    <tr>\n",
       "      <th>3</th>\n",
       "      <td>RUSSIA</td>\n",
       "      <td>1848070000</td>\n",
       "      <td>2019</td>\n",
       "    </tr>\n",
       "    <tr>\n",
       "      <th>4</th>\n",
       "      <td>JAPAN</td>\n",
       "      <td>1103234000</td>\n",
       "      <td>2019</td>\n",
       "    </tr>\n",
       "    <tr>\n",
       "      <th>...</th>\n",
       "      <td>...</td>\n",
       "      <td>...</td>\n",
       "      <td>...</td>\n",
       "    </tr>\n",
       "    <tr>\n",
       "      <th>213</th>\n",
       "      <td>ANTARCTICA</td>\n",
       "      <td>28000</td>\n",
       "      <td>2019</td>\n",
       "    </tr>\n",
       "    <tr>\n",
       "      <th>214</th>\n",
       "      <td>SAINT HELENA, ASCENSION, AND TRISTAN DA CUNHA</td>\n",
       "      <td>13000</td>\n",
       "      <td>2019</td>\n",
       "    </tr>\n",
       "    <tr>\n",
       "      <th>215</th>\n",
       "      <td>NIUE</td>\n",
       "      <td>8000</td>\n",
       "      <td>2019</td>\n",
       "    </tr>\n",
       "    <tr>\n",
       "      <th>216</th>\n",
       "      <td>NORTHERN MARIANA ISLANDS</td>\n",
       "      <td>0</td>\n",
       "      <td>2019</td>\n",
       "    </tr>\n",
       "    <tr>\n",
       "      <th>217</th>\n",
       "      <td>TUVALU</td>\n",
       "      <td>0</td>\n",
       "      <td>2019</td>\n",
       "    </tr>\n",
       "  </tbody>\n",
       "</table>\n",
       "<p>218 rows × 3 columns</p>\n",
       "</div>"
      ],
      "text/plain": [
       "                                           Country   co2_tonnes  \\\n",
       "0                                            CHINA  10773248000   \n",
       "1                                    UNITED STATES   5144361000   \n",
       "2                                            INDIA   2314738000   \n",
       "3                                           RUSSIA   1848070000   \n",
       "4                                            JAPAN   1103234000   \n",
       "..                                             ...          ...   \n",
       "213                                     ANTARCTICA        28000   \n",
       "214  SAINT HELENA, ASCENSION, AND TRISTAN DA CUNHA        13000   \n",
       "215                                           NIUE         8000   \n",
       "216                       NORTHERN MARIANA ISLANDS            0   \n",
       "217                                         TUVALU            0   \n",
       "\n",
       "    Carbon_yearData  \n",
       "0              2019  \n",
       "1              2019  \n",
       "2              2019  \n",
       "3              2019  \n",
       "4              2019  \n",
       "..              ...  \n",
       "213            2019  \n",
       "214            2019  \n",
       "215            2019  \n",
       "216            2019  \n",
       "217            2019  \n",
       "\n",
       "[218 rows x 3 columns]"
      ]
     },
     "execution_count": 50,
     "metadata": {},
     "output_type": "execute_result"
    }
   ],
   "source": [
    "carbon"
   ]
  },
  {
   "cell_type": "markdown",
   "id": "01c5d1e3",
   "metadata": {},
   "source": [
    "Verifying year:"
   ]
  },
  {
   "cell_type": "code",
   "execution_count": 9,
   "id": "edf6fdde",
   "metadata": {},
   "outputs": [
    {
     "data": {
      "text/html": [
       "<div>\n",
       "<style scoped>\n",
       "    .dataframe tbody tr th:only-of-type {\n",
       "        vertical-align: middle;\n",
       "    }\n",
       "\n",
       "    .dataframe tbody tr th {\n",
       "        vertical-align: top;\n",
       "    }\n",
       "\n",
       "    .dataframe thead th {\n",
       "        text-align: right;\n",
       "    }\n",
       "</style>\n",
       "<table border=\"1\" class=\"dataframe\">\n",
       "  <thead>\n",
       "    <tr style=\"text-align: right;\">\n",
       "      <th></th>\n",
       "      <th>Country</th>\n",
       "      <th>ForestRevenue_PctGDP</th>\n",
       "      <th>Forest_yearData</th>\n",
       "    </tr>\n",
       "  </thead>\n",
       "  <tbody>\n",
       "  </tbody>\n",
       "</table>\n",
       "</div>"
      ],
      "text/plain": [
       "Empty DataFrame\n",
       "Columns: [Country, ForestRevenue_PctGDP, Forest_yearData]\n",
       "Index: []"
      ]
     },
     "execution_count": 9,
     "metadata": {},
     "output_type": "execute_result"
    }
   ],
   "source": [
    "forest[forest.Forest_yearData.str.contains(r'\\D')]"
   ]
  },
  {
   "cell_type": "code",
   "execution_count": 10,
   "id": "3dc81def",
   "metadata": {},
   "outputs": [
    {
     "data": {
      "text/html": [
       "<div>\n",
       "<style scoped>\n",
       "    .dataframe tbody tr th:only-of-type {\n",
       "        vertical-align: middle;\n",
       "    }\n",
       "\n",
       "    .dataframe tbody tr th {\n",
       "        vertical-align: top;\n",
       "    }\n",
       "\n",
       "    .dataframe thead th {\n",
       "        text-align: right;\n",
       "    }\n",
       "</style>\n",
       "<table border=\"1\" class=\"dataframe\">\n",
       "  <thead>\n",
       "    <tr style=\"text-align: right;\">\n",
       "      <th></th>\n",
       "      <th>Country</th>\n",
       "      <th>co2_tonnes</th>\n",
       "      <th>Carbon_yearData</th>\n",
       "    </tr>\n",
       "  </thead>\n",
       "  <tbody>\n",
       "  </tbody>\n",
       "</table>\n",
       "</div>"
      ],
      "text/plain": [
       "Empty DataFrame\n",
       "Columns: [Country, co2_tonnes, Carbon_yearData]\n",
       "Index: []"
      ]
     },
     "execution_count": 10,
     "metadata": {},
     "output_type": "execute_result"
    }
   ],
   "source": [
    "carbon[carbon.Carbon_yearData.str.contains(r'\\D')]"
   ]
  },
  {
   "cell_type": "markdown",
   "id": "04586061",
   "metadata": {},
   "source": [
    "**Before** starting formatting we check the data types:"
   ]
  },
  {
   "cell_type": "code",
   "execution_count": 11,
   "id": "85a29812",
   "metadata": {},
   "outputs": [
    {
     "name": "stdout",
     "output_type": "stream",
     "text": [
      "<class 'pandas.core.frame.DataFrame'>\n",
      "RangeIndex: 204 entries, 0 to 203\n",
      "Data columns (total 3 columns):\n",
      " #   Column                Non-Null Count  Dtype  \n",
      "---  ------                --------------  -----  \n",
      " 0   Country               204 non-null    object \n",
      " 1   ForestRevenue_PctGDP  204 non-null    float64\n",
      " 2   Forest_yearData       204 non-null    object \n",
      "dtypes: float64(1), object(2)\n",
      "memory usage: 4.9+ KB\n"
     ]
    }
   ],
   "source": [
    "forest.info()"
   ]
  },
  {
   "cell_type": "code",
   "execution_count": 12,
   "id": "75cf5bad",
   "metadata": {},
   "outputs": [
    {
     "name": "stdout",
     "output_type": "stream",
     "text": [
      "<class 'pandas.core.frame.DataFrame'>\n",
      "RangeIndex: 218 entries, 0 to 217\n",
      "Data columns (total 3 columns):\n",
      " #   Column           Non-Null Count  Dtype \n",
      "---  ------           --------------  ----- \n",
      " 0   Country          218 non-null    object\n",
      " 1   co2_tonnes       218 non-null    int64 \n",
      " 2   Carbon_yearData  218 non-null    object\n",
      "dtypes: int64(1), object(2)\n",
      "memory usage: 5.2+ KB\n"
     ]
    }
   ],
   "source": [
    "carbon.info()"
   ]
  },
  {
   "cell_type": "markdown",
   "id": "48c61d43",
   "metadata": {},
   "source": [
    "# String case"
   ]
  },
  {
   "cell_type": "markdown",
   "id": "d9224a35",
   "metadata": {},
   "source": [
    "This is our string column"
   ]
  },
  {
   "cell_type": "code",
   "execution_count": 27,
   "id": "bc3b2c61",
   "metadata": {},
   "outputs": [
    {
     "data": {
      "text/plain": [
       "0                                              China\n",
       "1                                      United States\n",
       "2                                              India\n",
       "3                                             Russia\n",
       "4                                              Japan\n",
       "                           ...                      \n",
       "213                                       Antarctica\n",
       "214    Saint Helena, Ascension, and Tristan da Cunha\n",
       "215                                             Niue\n",
       "216                         Northern Mariana Islands\n",
       "217                                           Tuvalu\n",
       "Name: Country, Length: 218, dtype: object"
      ]
     },
     "execution_count": 27,
     "metadata": {},
     "output_type": "execute_result"
    }
   ],
   "source": [
    "carbon.Country #filtramos para ver values de la column 'Country'"
   ]
  },
  {
   "cell_type": "code",
   "execution_count": 28,
   "id": "882f3d99",
   "metadata": {},
   "outputs": [
    {
     "data": {
      "text/html": [
       "<div>\n",
       "<style scoped>\n",
       "    .dataframe tbody tr th:only-of-type {\n",
       "        vertical-align: middle;\n",
       "    }\n",
       "\n",
       "    .dataframe tbody tr th {\n",
       "        vertical-align: top;\n",
       "    }\n",
       "\n",
       "    .dataframe thead th {\n",
       "        text-align: right;\n",
       "    }\n",
       "</style>\n",
       "<table border=\"1\" class=\"dataframe\">\n",
       "  <thead>\n",
       "    <tr style=\"text-align: right;\">\n",
       "      <th></th>\n",
       "      <th>Country</th>\n",
       "      <th>co2_tonnes</th>\n",
       "      <th>Carbon_yearData</th>\n",
       "    </tr>\n",
       "  </thead>\n",
       "  <tbody>\n",
       "  </tbody>\n",
       "</table>\n",
       "</div>"
      ],
      "text/plain": [
       "Empty DataFrame\n",
       "Columns: [Country, co2_tonnes, Carbon_yearData]\n",
       "Index: []"
      ]
     },
     "execution_count": 28,
     "metadata": {},
     "output_type": "execute_result"
    }
   ],
   "source": [
    "# do we have duplicates?\n",
    "carbon[carbon.duplicated(subset='Country')] #no hay datos duplicados en ninguna columna"
   ]
  },
  {
   "cell_type": "code",
   "execution_count": 53,
   "id": "f3b72da5",
   "metadata": {},
   "outputs": [
    {
     "data": {
      "text/html": [
       "<div>\n",
       "<style scoped>\n",
       "    .dataframe tbody tr th:only-of-type {\n",
       "        vertical-align: middle;\n",
       "    }\n",
       "\n",
       "    .dataframe tbody tr th {\n",
       "        vertical-align: top;\n",
       "    }\n",
       "\n",
       "    .dataframe thead th {\n",
       "        text-align: right;\n",
       "    }\n",
       "</style>\n",
       "<table border=\"1\" class=\"dataframe\">\n",
       "  <thead>\n",
       "    <tr style=\"text-align: right;\">\n",
       "      <th></th>\n",
       "      <th>Country</th>\n",
       "      <th>co2_tonnes</th>\n",
       "      <th>Carbon_yearData</th>\n",
       "    </tr>\n",
       "  </thead>\n",
       "  <tbody>\n",
       "    <tr>\n",
       "      <th>6</th>\n",
       "      <td>KOREA, SOUTH</td>\n",
       "      <td>686954000</td>\n",
       "      <td>2019</td>\n",
       "    </tr>\n",
       "    <tr>\n",
       "      <th>16</th>\n",
       "      <td>TURKEY (TURKIYE)</td>\n",
       "      <td>391792000</td>\n",
       "      <td>2019</td>\n",
       "    </tr>\n",
       "    <tr>\n",
       "      <th>86</th>\n",
       "      <td>KOREA, NORTH</td>\n",
       "      <td>18465000</td>\n",
       "      <td>2019</td>\n",
       "    </tr>\n",
       "    <tr>\n",
       "      <th>99</th>\n",
       "      <td>COTE D'IVOIRE</td>\n",
       "      <td>11880000</td>\n",
       "      <td>2019</td>\n",
       "    </tr>\n",
       "    <tr>\n",
       "      <th>137</th>\n",
       "      <td>CONGO, REPUBLIC OF THE</td>\n",
       "      <td>4523000</td>\n",
       "      <td>2019</td>\n",
       "    </tr>\n",
       "    <tr>\n",
       "      <th>141</th>\n",
       "      <td>BAHAMAS, THE</td>\n",
       "      <td>3984000</td>\n",
       "      <td>2019</td>\n",
       "    </tr>\n",
       "    <tr>\n",
       "      <th>150</th>\n",
       "      <td>CONGO, DEMOCRATIC REPUBLIC OF THE</td>\n",
       "      <td>2653000</td>\n",
       "      <td>2019</td>\n",
       "    </tr>\n",
       "    <tr>\n",
       "      <th>185</th>\n",
       "      <td>GAMBIA, THE</td>\n",
       "      <td>606000</td>\n",
       "      <td>2019</td>\n",
       "    </tr>\n",
       "    <tr>\n",
       "      <th>188</th>\n",
       "      <td>TIMOR-LESTE</td>\n",
       "      <td>538000</td>\n",
       "      <td>2019</td>\n",
       "    </tr>\n",
       "    <tr>\n",
       "      <th>192</th>\n",
       "      <td>GUINEA-BISSAU</td>\n",
       "      <td>342000</td>\n",
       "      <td>2019</td>\n",
       "    </tr>\n",
       "    <tr>\n",
       "      <th>203</th>\n",
       "      <td>MICRONESIA, FEDERATED STATES OF</td>\n",
       "      <td>177000</td>\n",
       "      <td>2019</td>\n",
       "    </tr>\n",
       "    <tr>\n",
       "      <th>211</th>\n",
       "      <td>FALKLAND ISLANDS (ISLAS MALVINAS)</td>\n",
       "      <td>46000</td>\n",
       "      <td>2019</td>\n",
       "    </tr>\n",
       "    <tr>\n",
       "      <th>214</th>\n",
       "      <td>SAINT HELENA, ASCENSION, AND TRISTAN DA CUNHA</td>\n",
       "      <td>13000</td>\n",
       "      <td>2019</td>\n",
       "    </tr>\n",
       "  </tbody>\n",
       "</table>\n",
       "</div>"
      ],
      "text/plain": [
       "                                           Country  co2_tonnes Carbon_yearData\n",
       "6                                     KOREA, SOUTH   686954000            2019\n",
       "16                                TURKEY (TURKIYE)   391792000            2019\n",
       "86                                    KOREA, NORTH    18465000            2019\n",
       "99                                   COTE D'IVOIRE    11880000            2019\n",
       "137                         CONGO, REPUBLIC OF THE     4523000            2019\n",
       "141                                   BAHAMAS, THE     3984000            2019\n",
       "150              CONGO, DEMOCRATIC REPUBLIC OF THE     2653000            2019\n",
       "185                                    GAMBIA, THE      606000            2019\n",
       "188                                    TIMOR-LESTE      538000            2019\n",
       "192                                  GUINEA-BISSAU      342000            2019\n",
       "203                MICRONESIA, FEDERATED STATES OF      177000            2019\n",
       "211              FALKLAND ISLANDS (ISLAS MALVINAS)       46000            2019\n",
       "214  SAINT HELENA, ASCENSION, AND TRISTAN DA CUNHA       13000            2019"
      ]
     },
     "execution_count": 53,
     "metadata": {},
     "output_type": "execute_result"
    }
   ],
   "source": [
    "# do we have weird symbols?\n",
    "carbon[carbon.Country.str.contains(r'[^\\w\\s]')]"
   ]
  },
  {
   "cell_type": "code",
   "execution_count": 54,
   "id": "c8af499a",
   "metadata": {},
   "outputs": [
    {
     "data": {
      "text/html": [
       "<div>\n",
       "<style scoped>\n",
       "    .dataframe tbody tr th:only-of-type {\n",
       "        vertical-align: middle;\n",
       "    }\n",
       "\n",
       "    .dataframe tbody tr th {\n",
       "        vertical-align: top;\n",
       "    }\n",
       "\n",
       "    .dataframe thead th {\n",
       "        text-align: right;\n",
       "    }\n",
       "</style>\n",
       "<table border=\"1\" class=\"dataframe\">\n",
       "  <thead>\n",
       "    <tr style=\"text-align: right;\">\n",
       "      <th></th>\n",
       "      <th>Country</th>\n",
       "      <th>co2_tonnes</th>\n",
       "      <th>Carbon_yearData</th>\n",
       "    </tr>\n",
       "  </thead>\n",
       "  <tbody>\n",
       "    <tr>\n",
       "      <th>99</th>\n",
       "      <td>COTE D'IVOIRE</td>\n",
       "      <td>11880000</td>\n",
       "      <td>2019</td>\n",
       "    </tr>\n",
       "  </tbody>\n",
       "</table>\n",
       "</div>"
      ],
      "text/plain": [
       "          Country  co2_tonnes Carbon_yearData\n",
       "99  COTE D'IVOIRE    11880000            2019"
      ]
     },
     "execution_count": 54,
     "metadata": {},
     "output_type": "execute_result"
    }
   ],
   "source": [
    "# accents in words:\n",
    "carbon[carbon.Country.str.contains(r\"\\w*[\\u00C0-\\u01DA']\\w*\")] #antes estaba el ^ encima de la 'o' de COTE"
   ]
  },
  {
   "cell_type": "code",
   "execution_count": 55,
   "id": "1d86708c",
   "metadata": {},
   "outputs": [],
   "source": [
    "# only ascii\n",
    "from unidecode import unidecode\n",
    "\n",
    "carbon['Country']=carbon.Country.apply(unidecode) #unicode para quitar simbolos raros\n",
    "forest['Country']=forest.Country.apply(unidecode)"
   ]
  },
  {
   "cell_type": "markdown",
   "id": "18837c55",
   "metadata": {},
   "source": [
    "The capitalization is an important step, it may help in later stages when merging data frames:\n",
    "\n",
    "* str.lower(): all to lowercase.\n",
    "\n",
    "* str.upper(): ALL TO UPPERCASE.\n",
    "\n",
    "* str.title(): First Character Of Each Word To Uppercase. \n",
    "\n",
    "* str.capitalize(): First character to uppercase and remaining to lowercase.\n",
    "\n",
    "**You can only apply this if the cells are strings.**\n",
    "\n",
    "Let's do it:"
   ]
  },
  {
   "cell_type": "code",
   "execution_count": 59,
   "id": "3c9f6b40",
   "metadata": {},
   "outputs": [
    {
     "data": {
      "text/html": [
       "<div>\n",
       "<style scoped>\n",
       "    .dataframe tbody tr th:only-of-type {\n",
       "        vertical-align: middle;\n",
       "    }\n",
       "\n",
       "    .dataframe tbody tr th {\n",
       "        vertical-align: top;\n",
       "    }\n",
       "\n",
       "    .dataframe thead th {\n",
       "        text-align: right;\n",
       "    }\n",
       "</style>\n",
       "<table border=\"1\" class=\"dataframe\">\n",
       "  <thead>\n",
       "    <tr style=\"text-align: right;\">\n",
       "      <th></th>\n",
       "      <th>Country</th>\n",
       "      <th>co2_tonnes</th>\n",
       "      <th>Carbon_yearData</th>\n",
       "      <th>countryname</th>\n",
       "      <th>COUNTRYNAME</th>\n",
       "      <th>CountryName</th>\n",
       "    </tr>\n",
       "  </thead>\n",
       "  <tbody>\n",
       "    <tr>\n",
       "      <th>0</th>\n",
       "      <td>CHINA</td>\n",
       "      <td>10773248000</td>\n",
       "      <td>2019</td>\n",
       "      <td>china</td>\n",
       "      <td>CHINA</td>\n",
       "      <td>China</td>\n",
       "    </tr>\n",
       "    <tr>\n",
       "      <th>1</th>\n",
       "      <td>UNITED STATES</td>\n",
       "      <td>5144361000</td>\n",
       "      <td>2019</td>\n",
       "      <td>united states</td>\n",
       "      <td>UNITED STATES</td>\n",
       "      <td>United States</td>\n",
       "    </tr>\n",
       "    <tr>\n",
       "      <th>2</th>\n",
       "      <td>INDIA</td>\n",
       "      <td>2314738000</td>\n",
       "      <td>2019</td>\n",
       "      <td>india</td>\n",
       "      <td>INDIA</td>\n",
       "      <td>India</td>\n",
       "    </tr>\n",
       "    <tr>\n",
       "      <th>3</th>\n",
       "      <td>RUSSIA</td>\n",
       "      <td>1848070000</td>\n",
       "      <td>2019</td>\n",
       "      <td>russia</td>\n",
       "      <td>RUSSIA</td>\n",
       "      <td>Russia</td>\n",
       "    </tr>\n",
       "    <tr>\n",
       "      <th>4</th>\n",
       "      <td>JAPAN</td>\n",
       "      <td>1103234000</td>\n",
       "      <td>2019</td>\n",
       "      <td>japan</td>\n",
       "      <td>JAPAN</td>\n",
       "      <td>Japan</td>\n",
       "    </tr>\n",
       "    <tr>\n",
       "      <th>...</th>\n",
       "      <td>...</td>\n",
       "      <td>...</td>\n",
       "      <td>...</td>\n",
       "      <td>...</td>\n",
       "      <td>...</td>\n",
       "      <td>...</td>\n",
       "    </tr>\n",
       "    <tr>\n",
       "      <th>213</th>\n",
       "      <td>ANTARCTICA</td>\n",
       "      <td>28000</td>\n",
       "      <td>2019</td>\n",
       "      <td>antarctica</td>\n",
       "      <td>ANTARCTICA</td>\n",
       "      <td>Antarctica</td>\n",
       "    </tr>\n",
       "    <tr>\n",
       "      <th>214</th>\n",
       "      <td>SAINT HELENA, ASCENSION, AND TRISTAN DA CUNHA</td>\n",
       "      <td>13000</td>\n",
       "      <td>2019</td>\n",
       "      <td>saint helena, ascension, and tristan da cunha</td>\n",
       "      <td>SAINT HELENA, ASCENSION, AND TRISTAN DA CUNHA</td>\n",
       "      <td>Saint Helena, Ascension, And Tristan Da Cunha</td>\n",
       "    </tr>\n",
       "    <tr>\n",
       "      <th>215</th>\n",
       "      <td>NIUE</td>\n",
       "      <td>8000</td>\n",
       "      <td>2019</td>\n",
       "      <td>niue</td>\n",
       "      <td>NIUE</td>\n",
       "      <td>Niue</td>\n",
       "    </tr>\n",
       "    <tr>\n",
       "      <th>216</th>\n",
       "      <td>NORTHERN MARIANA ISLANDS</td>\n",
       "      <td>0</td>\n",
       "      <td>2019</td>\n",
       "      <td>northern mariana islands</td>\n",
       "      <td>NORTHERN MARIANA ISLANDS</td>\n",
       "      <td>Northern Mariana Islands</td>\n",
       "    </tr>\n",
       "    <tr>\n",
       "      <th>217</th>\n",
       "      <td>TUVALU</td>\n",
       "      <td>0</td>\n",
       "      <td>2019</td>\n",
       "      <td>tuvalu</td>\n",
       "      <td>TUVALU</td>\n",
       "      <td>Tuvalu</td>\n",
       "    </tr>\n",
       "  </tbody>\n",
       "</table>\n",
       "<p>218 rows × 6 columns</p>\n",
       "</div>"
      ],
      "text/plain": [
       "                                           Country   co2_tonnes  \\\n",
       "0                                            CHINA  10773248000   \n",
       "1                                    UNITED STATES   5144361000   \n",
       "2                                            INDIA   2314738000   \n",
       "3                                           RUSSIA   1848070000   \n",
       "4                                            JAPAN   1103234000   \n",
       "..                                             ...          ...   \n",
       "213                                     ANTARCTICA        28000   \n",
       "214  SAINT HELENA, ASCENSION, AND TRISTAN DA CUNHA        13000   \n",
       "215                                           NIUE         8000   \n",
       "216                       NORTHERN MARIANA ISLANDS            0   \n",
       "217                                         TUVALU            0   \n",
       "\n",
       "    Carbon_yearData                                    countryname  \\\n",
       "0              2019                                          china   \n",
       "1              2019                                  united states   \n",
       "2              2019                                          india   \n",
       "3              2019                                         russia   \n",
       "4              2019                                          japan   \n",
       "..              ...                                            ...   \n",
       "213            2019                                     antarctica   \n",
       "214            2019  saint helena, ascension, and tristan da cunha   \n",
       "215            2019                                           niue   \n",
       "216            2019                       northern mariana islands   \n",
       "217            2019                                         tuvalu   \n",
       "\n",
       "                                       COUNTRYNAME  \\\n",
       "0                                            CHINA   \n",
       "1                                    UNITED STATES   \n",
       "2                                            INDIA   \n",
       "3                                           RUSSIA   \n",
       "4                                            JAPAN   \n",
       "..                                             ...   \n",
       "213                                     ANTARCTICA   \n",
       "214  SAINT HELENA, ASCENSION, AND TRISTAN DA CUNHA   \n",
       "215                                           NIUE   \n",
       "216                       NORTHERN MARIANA ISLANDS   \n",
       "217                                         TUVALU   \n",
       "\n",
       "                                       CountryName  \n",
       "0                                            China  \n",
       "1                                    United States  \n",
       "2                                            India  \n",
       "3                                           Russia  \n",
       "4                                            Japan  \n",
       "..                                             ...  \n",
       "213                                     Antarctica  \n",
       "214  Saint Helena, Ascension, And Tristan Da Cunha  \n",
       "215                                           Niue  \n",
       "216                       Northern Mariana Islands  \n",
       "217                                         Tuvalu  \n",
       "\n",
       "[218 rows x 6 columns]"
      ]
     },
     "execution_count": 59,
     "metadata": {},
     "output_type": "execute_result"
    }
   ],
   "source": [
    "carbon_test=carbon.copy()\n",
    "carbon_test\n",
    "carbon_test['countryname']=carbon_test.Country.str.lower()\n",
    "carbon_test['COUNTRYNAME']=carbon_test.Country.str.upper()\n",
    "carbon_test['CountryName']=carbon_test.Country.str.title()\n",
    "carbon_test"
   ]
  },
  {
   "cell_type": "code",
   "execution_count": 60,
   "id": "e0a681ee",
   "metadata": {},
   "outputs": [
    {
     "data": {
      "text/html": [
       "<div>\n",
       "<style scoped>\n",
       "    .dataframe tbody tr th:only-of-type {\n",
       "        vertical-align: middle;\n",
       "    }\n",
       "\n",
       "    .dataframe tbody tr th {\n",
       "        vertical-align: top;\n",
       "    }\n",
       "\n",
       "    .dataframe thead th {\n",
       "        text-align: right;\n",
       "    }\n",
       "</style>\n",
       "<table border=\"1\" class=\"dataframe\">\n",
       "  <thead>\n",
       "    <tr style=\"text-align: right;\">\n",
       "      <th></th>\n",
       "      <th>Country</th>\n",
       "      <th>ForestRevenue_PctGDP</th>\n",
       "      <th>Forest_yearData</th>\n",
       "    </tr>\n",
       "  </thead>\n",
       "  <tbody>\n",
       "    <tr>\n",
       "      <th>0</th>\n",
       "      <td>SOLOMON ISLANDS</td>\n",
       "      <td>20.27</td>\n",
       "      <td>2018</td>\n",
       "    </tr>\n",
       "    <tr>\n",
       "      <th>1</th>\n",
       "      <td>LIBERIA</td>\n",
       "      <td>13.27</td>\n",
       "      <td>2018</td>\n",
       "    </tr>\n",
       "    <tr>\n",
       "      <th>2</th>\n",
       "      <td>BURUNDI</td>\n",
       "      <td>10.31</td>\n",
       "      <td>2018</td>\n",
       "    </tr>\n",
       "    <tr>\n",
       "      <th>3</th>\n",
       "      <td>GUINEA-BISSAU</td>\n",
       "      <td>9.24</td>\n",
       "      <td>2018</td>\n",
       "    </tr>\n",
       "    <tr>\n",
       "      <th>4</th>\n",
       "      <td>CENTRAL AFRICAN REPUBLIC</td>\n",
       "      <td>8.99</td>\n",
       "      <td>2018</td>\n",
       "    </tr>\n",
       "    <tr>\n",
       "      <th>...</th>\n",
       "      <td>...</td>\n",
       "      <td>...</td>\n",
       "      <td>...</td>\n",
       "    </tr>\n",
       "    <tr>\n",
       "      <th>199</th>\n",
       "      <td>GUAM</td>\n",
       "      <td>0.00</td>\n",
       "      <td>2018</td>\n",
       "    </tr>\n",
       "    <tr>\n",
       "      <th>200</th>\n",
       "      <td>FAROE ISLANDS</td>\n",
       "      <td>0.00</td>\n",
       "      <td>2017</td>\n",
       "    </tr>\n",
       "    <tr>\n",
       "      <th>201</th>\n",
       "      <td>ARUBA</td>\n",
       "      <td>0.00</td>\n",
       "      <td>2017</td>\n",
       "    </tr>\n",
       "    <tr>\n",
       "      <th>202</th>\n",
       "      <td>VIRGIN ISLANDS</td>\n",
       "      <td>0.00</td>\n",
       "      <td>2017</td>\n",
       "    </tr>\n",
       "    <tr>\n",
       "      <th>203</th>\n",
       "      <td>MACAU</td>\n",
       "      <td>0.00</td>\n",
       "      <td>2018</td>\n",
       "    </tr>\n",
       "  </tbody>\n",
       "</table>\n",
       "<p>204 rows × 3 columns</p>\n",
       "</div>"
      ],
      "text/plain": [
       "                      Country  ForestRevenue_PctGDP Forest_yearData\n",
       "0             SOLOMON ISLANDS                 20.27            2018\n",
       "1                     LIBERIA                 13.27            2018\n",
       "2                     BURUNDI                 10.31            2018\n",
       "3               GUINEA-BISSAU                  9.24            2018\n",
       "4    CENTRAL AFRICAN REPUBLIC                  8.99            2018\n",
       "..                        ...                   ...             ...\n",
       "199                      GUAM                  0.00            2018\n",
       "200             FAROE ISLANDS                  0.00            2017\n",
       "201                     ARUBA                  0.00            2017\n",
       "202            VIRGIN ISLANDS                  0.00            2017\n",
       "203                     MACAU                  0.00            2018\n",
       "\n",
       "[204 rows x 3 columns]"
      ]
     },
     "execution_count": 60,
     "metadata": {},
     "output_type": "execute_result"
    }
   ],
   "source": [
    "#Let's keep the upper case\n",
    "carbon['Country']=carbon.Country.str.upper()\n",
    "forest['Country']=forest.Country.str.upper()\n",
    "forest"
   ]
  },
  {
   "cell_type": "code",
   "execution_count": 61,
   "id": "45a5dc73",
   "metadata": {},
   "outputs": [],
   "source": [
    "# we can save this:\n",
    "import os\n",
    "\n",
    "carbon.to_csv(os.path.join(\"data\",\"carbon_formatted.csv\"),index=False)\n",
    "forest.to_csv(os.path.join(\"data\",\"forest_formatted.csv\"),index=False)"
   ]
  },
  {
   "cell_type": "markdown",
   "id": "08275df0",
   "metadata": {},
   "source": [
    "# Numeric case"
   ]
  },
  {
   "cell_type": "raw",
   "id": "d700bbe4",
   "metadata": {},
   "source": [
    "# If numeric data **looks** good, but the computer has not recognised it as a number we are still in trouble:"
   ]
  },
  {
   "cell_type": "code",
   "execution_count": 62,
   "id": "7eae0a47",
   "metadata": {},
   "outputs": [
    {
     "data": {
      "text/html": [
       "<div>\n",
       "<style scoped>\n",
       "    .dataframe tbody tr th:only-of-type {\n",
       "        vertical-align: middle;\n",
       "    }\n",
       "\n",
       "    .dataframe tbody tr th {\n",
       "        vertical-align: top;\n",
       "    }\n",
       "\n",
       "    .dataframe thead th {\n",
       "        text-align: right;\n",
       "    }\n",
       "</style>\n",
       "<table border=\"1\" class=\"dataframe\">\n",
       "  <thead>\n",
       "    <tr style=\"text-align: right;\">\n",
       "      <th></th>\n",
       "      <th>Country</th>\n",
       "      <th>co2_tonnes</th>\n",
       "      <th>Carbon_yearData</th>\n",
       "    </tr>\n",
       "  </thead>\n",
       "  <tbody>\n",
       "    <tr>\n",
       "      <th>0</th>\n",
       "      <td>CHINA</td>\n",
       "      <td>10773248000</td>\n",
       "      <td>2019</td>\n",
       "    </tr>\n",
       "    <tr>\n",
       "      <th>1</th>\n",
       "      <td>UNITED STATES</td>\n",
       "      <td>5144361000</td>\n",
       "      <td>2019</td>\n",
       "    </tr>\n",
       "    <tr>\n",
       "      <th>2</th>\n",
       "      <td>INDIA</td>\n",
       "      <td>2314738000</td>\n",
       "      <td>2019</td>\n",
       "    </tr>\n",
       "    <tr>\n",
       "      <th>3</th>\n",
       "      <td>RUSSIA</td>\n",
       "      <td>1848070000</td>\n",
       "      <td>2019</td>\n",
       "    </tr>\n",
       "    <tr>\n",
       "      <th>4</th>\n",
       "      <td>JAPAN</td>\n",
       "      <td>1103234000</td>\n",
       "      <td>2019</td>\n",
       "    </tr>\n",
       "    <tr>\n",
       "      <th>...</th>\n",
       "      <td>...</td>\n",
       "      <td>...</td>\n",
       "      <td>...</td>\n",
       "    </tr>\n",
       "    <tr>\n",
       "      <th>213</th>\n",
       "      <td>ANTARCTICA</td>\n",
       "      <td>28000</td>\n",
       "      <td>2019</td>\n",
       "    </tr>\n",
       "    <tr>\n",
       "      <th>214</th>\n",
       "      <td>SAINT HELENA, ASCENSION, AND TRISTAN DA CUNHA</td>\n",
       "      <td>13000</td>\n",
       "      <td>2019</td>\n",
       "    </tr>\n",
       "    <tr>\n",
       "      <th>215</th>\n",
       "      <td>NIUE</td>\n",
       "      <td>8000</td>\n",
       "      <td>2019</td>\n",
       "    </tr>\n",
       "    <tr>\n",
       "      <th>216</th>\n",
       "      <td>NORTHERN MARIANA ISLANDS</td>\n",
       "      <td>0</td>\n",
       "      <td>2019</td>\n",
       "    </tr>\n",
       "    <tr>\n",
       "      <th>217</th>\n",
       "      <td>TUVALU</td>\n",
       "      <td>0</td>\n",
       "      <td>2019</td>\n",
       "    </tr>\n",
       "  </tbody>\n",
       "</table>\n",
       "<p>218 rows × 3 columns</p>\n",
       "</div>"
      ],
      "text/plain": [
       "                                           Country   co2_tonnes  \\\n",
       "0                                            CHINA  10773248000   \n",
       "1                                    UNITED STATES   5144361000   \n",
       "2                                            INDIA   2314738000   \n",
       "3                                           RUSSIA   1848070000   \n",
       "4                                            JAPAN   1103234000   \n",
       "..                                             ...          ...   \n",
       "213                                     ANTARCTICA        28000   \n",
       "214  SAINT HELENA, ASCENSION, AND TRISTAN DA CUNHA        13000   \n",
       "215                                           NIUE         8000   \n",
       "216                       NORTHERN MARIANA ISLANDS            0   \n",
       "217                                         TUVALU            0   \n",
       "\n",
       "    Carbon_yearData  \n",
       "0              2019  \n",
       "1              2019  \n",
       "2              2019  \n",
       "3              2019  \n",
       "4              2019  \n",
       "..              ...  \n",
       "213            2019  \n",
       "214            2019  \n",
       "215            2019  \n",
       "216            2019  \n",
       "217            2019  \n",
       "\n",
       "[218 rows x 3 columns]"
      ]
     },
     "execution_count": 62,
     "metadata": {},
     "output_type": "execute_result"
    }
   ],
   "source": [
    "carbon"
   ]
  },
  {
   "cell_type": "code",
   "execution_count": 63,
   "id": "88f797a0",
   "metadata": {},
   "outputs": [
    {
     "data": {
      "text/plain": [
       "0      2019\n",
       "1      2019\n",
       "2      2019\n",
       "3      2019\n",
       "4      2019\n",
       "       ... \n",
       "213    2019\n",
       "214    2019\n",
       "215    2019\n",
       "216    2019\n",
       "217    2019\n",
       "Name: Carbon_yearData, Length: 218, dtype: object"
      ]
     },
     "execution_count": 63,
     "metadata": {},
     "output_type": "execute_result"
    }
   ],
   "source": [
    "#looks good\n",
    "carbon.Carbon_yearData"
   ]
  },
  {
   "cell_type": "code",
   "execution_count": 64,
   "id": "0c5700d0",
   "metadata": {},
   "outputs": [
    {
     "name": "stdout",
     "output_type": "stream",
     "text": [
      "<class 'pandas.core.series.Series'>\n",
      "RangeIndex: 218 entries, 0 to 217\n",
      "Series name: Carbon_yearData\n",
      "Non-Null Count  Dtype \n",
      "--------------  ----- \n",
      "218 non-null    object\n",
      "dtypes: object(1)\n",
      "memory usage: 1.8+ KB\n"
     ]
    }
   ],
   "source": [
    "# not numeric data\n",
    "carbon.Carbon_yearData.info()"
   ]
  },
  {
   "cell_type": "code",
   "execution_count": 65,
   "id": "837324ef",
   "metadata": {},
   "outputs": [
    {
     "data": {
      "text/plain": [
       "'2019'"
      ]
     },
     "execution_count": 65,
     "metadata": {},
     "output_type": "execute_result"
    }
   ],
   "source": [
    "# see ONE element\n",
    "carbon.Carbon_yearData[0]"
   ]
  },
  {
   "cell_type": "markdown",
   "id": "6f33e9ed",
   "metadata": {},
   "source": [
    "You can not get any **expected** statistics if the values are not recognised as numeric:"
   ]
  },
  {
   "cell_type": "code",
   "execution_count": 66,
   "id": "ec20d23f",
   "metadata": {},
   "outputs": [
    {
     "data": {
      "text/plain": [
       "count      218\n",
       "unique       3\n",
       "top       2019\n",
       "freq       216\n",
       "Name: Carbon_yearData, dtype: object"
      ]
     },
     "execution_count": 66,
     "metadata": {},
     "output_type": "execute_result"
    }
   ],
   "source": [
    "carbon.Carbon_yearData.describe()"
   ]
  },
  {
   "cell_type": "markdown",
   "id": "046c3671",
   "metadata": {},
   "source": [
    "The easiest way is to use the **pd.to_numeric** function in pandas:"
   ]
  },
  {
   "cell_type": "code",
   "execution_count": 67,
   "id": "89e11f37",
   "metadata": {},
   "outputs": [
    {
     "data": {
      "text/plain": [
       "count     218.000000\n",
       "mean     2018.958716\n",
       "std         0.492471\n",
       "min      2012.000000\n",
       "25%      2019.000000\n",
       "50%      2019.000000\n",
       "75%      2019.000000\n",
       "max      2019.000000\n",
       "Name: Carbon_yearData, dtype: float64"
      ]
     },
     "execution_count": 67,
     "metadata": {},
     "output_type": "execute_result"
    }
   ],
   "source": [
    "# now you get stats for numeric data\n",
    "pd.to_numeric(carbon.Carbon_yearData).describe()"
   ]
  },
  {
   "cell_type": "markdown",
   "id": "b92c1374",
   "metadata": {},
   "source": [
    "Then:"
   ]
  },
  {
   "cell_type": "code",
   "execution_count": 68,
   "id": "db9c2dba",
   "metadata": {},
   "outputs": [
    {
     "name": "stdout",
     "output_type": "stream",
     "text": [
      "<class 'pandas.core.frame.DataFrame'>\n",
      "RangeIndex: 218 entries, 0 to 217\n",
      "Data columns (total 3 columns):\n",
      " #   Column           Non-Null Count  Dtype \n",
      "---  ------           --------------  ----- \n",
      " 0   Country          218 non-null    object\n",
      " 1   co2_tonnes       218 non-null    int64 \n",
      " 2   Carbon_yearData  218 non-null    int64 \n",
      "dtypes: int64(2), object(1)\n",
      "memory usage: 5.2+ KB\n"
     ]
    }
   ],
   "source": [
    "carbon['Carbon_yearData']=pd.to_numeric(carbon.Carbon_yearData)\n",
    "carbon.info()"
   ]
  },
  {
   "cell_type": "code",
   "execution_count": 70,
   "id": "5a04b0d2",
   "metadata": {},
   "outputs": [
    {
     "name": "stdout",
     "output_type": "stream",
     "text": [
      "<class 'pandas.core.frame.DataFrame'>\n",
      "RangeIndex: 204 entries, 0 to 203\n",
      "Data columns (total 3 columns):\n",
      " #   Column                Non-Null Count  Dtype  \n",
      "---  ------                --------------  -----  \n",
      " 0   Country               204 non-null    object \n",
      " 1   ForestRevenue_PctGDP  204 non-null    float64\n",
      " 2   Forest_yearData       204 non-null    int64  \n",
      "dtypes: float64(1), int64(1), object(1)\n",
      "memory usage: 4.9+ KB\n"
     ]
    }
   ],
   "source": [
    "forest['Forest_yearData']=pd.to_numeric(forest.Forest_yearData)\n",
    "forest.info()"
   ]
  },
  {
   "cell_type": "markdown",
   "id": "12ea88a5",
   "metadata": {},
   "source": [
    "Let's overwrite our previous files"
   ]
  },
  {
   "cell_type": "code",
   "execution_count": 71,
   "id": "5be057ee",
   "metadata": {},
   "outputs": [],
   "source": [
    "carbon.to_csv(os.path.join(\"data\",\"carbon_formatted.csv\"),index=False)\n",
    "forest.to_csv(os.path.join(\"data\",\"forest_formatted.csv\"),index=False)"
   ]
  },
  {
   "cell_type": "markdown",
   "id": "012b3763",
   "metadata": {},
   "source": [
    "Notice that this works only if the column has already been cleaned:"
   ]
  },
  {
   "cell_type": "code",
   "execution_count": 72,
   "id": "c459e828",
   "metadata": {},
   "outputs": [
    {
     "data": {
      "text/html": [
       "<div>\n",
       "<style scoped>\n",
       "    .dataframe tbody tr th:only-of-type {\n",
       "        vertical-align: middle;\n",
       "    }\n",
       "\n",
       "    .dataframe tbody tr th {\n",
       "        vertical-align: top;\n",
       "    }\n",
       "\n",
       "    .dataframe thead th {\n",
       "        text-align: right;\n",
       "    }\n",
       "</style>\n",
       "<table border=\"1\" class=\"dataframe\">\n",
       "  <thead>\n",
       "    <tr style=\"text-align: right;\">\n",
       "      <th></th>\n",
       "      <th>someVals</th>\n",
       "    </tr>\n",
       "  </thead>\n",
       "  <tbody>\n",
       "    <tr>\n",
       "      <th>0</th>\n",
       "      <td>1</td>\n",
       "    </tr>\n",
       "    <tr>\n",
       "      <th>1</th>\n",
       "      <td>2</td>\n",
       "    </tr>\n",
       "    <tr>\n",
       "      <th>2</th>\n",
       "      <td>3</td>\n",
       "    </tr>\n",
       "    <tr>\n",
       "      <th>3</th>\n",
       "      <td>4</td>\n",
       "    </tr>\n",
       "    <tr>\n",
       "      <th>4</th>\n",
       "      <td>5</td>\n",
       "    </tr>\n",
       "    <tr>\n",
       "      <th>5</th>\n",
       "      <td>x</td>\n",
       "    </tr>\n",
       "  </tbody>\n",
       "</table>\n",
       "</div>"
      ],
      "text/plain": [
       "  someVals\n",
       "0        1\n",
       "1        2\n",
       "2        3\n",
       "3        4\n",
       "4        5\n",
       "5        x"
      ]
     },
     "execution_count": 72,
     "metadata": {},
     "output_type": "execute_result"
    }
   ],
   "source": [
    "# a list of values\n",
    "listValues=[1,2,3,4,'5','x']\n",
    "dictValues={'someVals':listValues}\n",
    "# a series\n",
    "aDataFrame=pd.DataFrame(dictValues)\n",
    "\n",
    "aDataFrame"
   ]
  },
  {
   "cell_type": "code",
   "execution_count": 73,
   "id": "a00f010b",
   "metadata": {},
   "outputs": [
    {
     "ename": "ValueError",
     "evalue": "Unable to parse string \"x\" at position 5",
     "output_type": "error",
     "traceback": [
      "\u001b[1;31m---------------------------------------------------------------------------\u001b[0m",
      "\u001b[1;31mValueError\u001b[0m                                Traceback (most recent call last)",
      "File \u001b[1;32m~\\anaconda3\\envs\\SDS-2023_2-burgos\\Lib\\site-packages\\pandas\\_libs\\lib.pyx:2280\u001b[0m, in \u001b[0;36mpandas._libs.lib.maybe_convert_numeric\u001b[1;34m()\u001b[0m\n",
      "\u001b[1;31mValueError\u001b[0m: Unable to parse string \"x\"",
      "\nDuring handling of the above exception, another exception occurred:\n",
      "\u001b[1;31mValueError\u001b[0m                                Traceback (most recent call last)",
      "Cell \u001b[1;32mIn[73], line 1\u001b[0m\n\u001b[1;32m----> 1\u001b[0m pd\u001b[38;5;241m.\u001b[39mto_numeric(aDataFrame\u001b[38;5;241m.\u001b[39msomeVals)\n",
      "File \u001b[1;32m~\\anaconda3\\envs\\SDS-2023_2-burgos\\Lib\\site-packages\\pandas\\core\\tools\\numeric.py:217\u001b[0m, in \u001b[0;36mto_numeric\u001b[1;34m(arg, errors, downcast, dtype_backend)\u001b[0m\n\u001b[0;32m    215\u001b[0m coerce_numeric \u001b[38;5;241m=\u001b[39m errors \u001b[38;5;129;01mnot\u001b[39;00m \u001b[38;5;129;01min\u001b[39;00m (\u001b[38;5;124m\"\u001b[39m\u001b[38;5;124mignore\u001b[39m\u001b[38;5;124m\"\u001b[39m, \u001b[38;5;124m\"\u001b[39m\u001b[38;5;124mraise\u001b[39m\u001b[38;5;124m\"\u001b[39m)\n\u001b[0;32m    216\u001b[0m \u001b[38;5;28;01mtry\u001b[39;00m:\n\u001b[1;32m--> 217\u001b[0m     values, new_mask \u001b[38;5;241m=\u001b[39m lib\u001b[38;5;241m.\u001b[39mmaybe_convert_numeric(  \u001b[38;5;66;03m# type: ignore[call-overload]  # noqa\u001b[39;00m\n\u001b[0;32m    218\u001b[0m         values,\n\u001b[0;32m    219\u001b[0m         \u001b[38;5;28mset\u001b[39m(),\n\u001b[0;32m    220\u001b[0m         coerce_numeric\u001b[38;5;241m=\u001b[39mcoerce_numeric,\n\u001b[0;32m    221\u001b[0m         convert_to_masked_nullable\u001b[38;5;241m=\u001b[39mdtype_backend \u001b[38;5;129;01mis\u001b[39;00m \u001b[38;5;129;01mnot\u001b[39;00m lib\u001b[38;5;241m.\u001b[39mno_default\n\u001b[0;32m    222\u001b[0m         \u001b[38;5;129;01mor\u001b[39;00m \u001b[38;5;28misinstance\u001b[39m(values_dtype, StringDtype),\n\u001b[0;32m    223\u001b[0m     )\n\u001b[0;32m    224\u001b[0m \u001b[38;5;28;01mexcept\u001b[39;00m (\u001b[38;5;167;01mValueError\u001b[39;00m, \u001b[38;5;167;01mTypeError\u001b[39;00m):\n\u001b[0;32m    225\u001b[0m     \u001b[38;5;28;01mif\u001b[39;00m errors \u001b[38;5;241m==\u001b[39m \u001b[38;5;124m\"\u001b[39m\u001b[38;5;124mraise\u001b[39m\u001b[38;5;124m\"\u001b[39m:\n",
      "File \u001b[1;32m~\\anaconda3\\envs\\SDS-2023_2-burgos\\Lib\\site-packages\\pandas\\_libs\\lib.pyx:2322\u001b[0m, in \u001b[0;36mpandas._libs.lib.maybe_convert_numeric\u001b[1;34m()\u001b[0m\n",
      "\u001b[1;31mValueError\u001b[0m: Unable to parse string \"x\" at position 5"
     ]
    }
   ],
   "source": [
    "pd.to_numeric(aDataFrame.someVals)"
   ]
  },
  {
   "cell_type": "code",
   "execution_count": 74,
   "id": "5e14cedd",
   "metadata": {},
   "outputs": [
    {
     "data": {
      "text/plain": [
       "0    1.0\n",
       "1    2.0\n",
       "2    3.0\n",
       "3    4.0\n",
       "4    5.0\n",
       "5    NaN\n",
       "Name: someVals, dtype: float64"
      ]
     },
     "execution_count": 74,
     "metadata": {},
     "output_type": "execute_result"
    }
   ],
   "source": [
    "pd.to_numeric(aDataFrame.someVals,errors='coerce')"
   ]
  },
  {
   "cell_type": "code",
   "execution_count": 75,
   "id": "1dce516d",
   "metadata": {},
   "outputs": [
    {
     "data": {
      "text/plain": [
       "0    1\n",
       "1    2\n",
       "2    3\n",
       "3    4\n",
       "4    5\n",
       "5    x\n",
       "Name: someVals, dtype: object"
      ]
     },
     "execution_count": 75,
     "metadata": {},
     "output_type": "execute_result"
    }
   ],
   "source": [
    "pd.to_numeric(aDataFrame.someVals,errors='ignore')"
   ]
  },
  {
   "cell_type": "markdown",
   "id": "3d9d0f2f",
   "metadata": {},
   "source": [
    "In this case, the **coerce** argument would be the best choice."
   ]
  }
 ],
 "metadata": {
  "kernelspec": {
   "display_name": "Python 3 (ipykernel)",
   "language": "python",
   "name": "python3"
  },
  "language_info": {
   "codemirror_mode": {
    "name": "ipython",
    "version": 3
   },
   "file_extension": ".py",
   "mimetype": "text/x-python",
   "name": "python",
   "nbconvert_exporter": "python",
   "pygments_lexer": "ipython3",
   "version": "3.11.4"
  }
 },
 "nbformat": 4,
 "nbformat_minor": 5
}
